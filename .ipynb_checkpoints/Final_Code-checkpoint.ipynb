{
 "cells": [
  {
   "cell_type": "markdown",
   "metadata": {},
   "source": [
    "# Final Project Code"
   ]
  },
  {
   "cell_type": "markdown",
   "metadata": {},
   "source": [
    "### Bailey Blum, Molly Giglia, Horacio Lopez & Ale Lopez"
   ]
  },
  {
   "cell_type": "markdown",
   "metadata": {},
   "source": [
    "# DONT RUN THIS --------------"
   ]
  },
  {
   "cell_type": "code",
   "execution_count": 1,
   "metadata": {},
   "outputs": [],
   "source": [
    "import json\n",
    "import pandas as pd\n",
    "    \n",
    "\n",
    "with open('yelp_dataset/review.json') as json_file:      \n",
    "    data = json_file.readlines()\n",
    "    # this line below may take at least 8-10 minutes of processing for 4-5 million rows. It converts all strings in list to actual json objects. \n",
    "    data = list(map(json.loads, data)) "
   ]
  },
  {
   "cell_type": "code",
   "execution_count": 2,
   "metadata": {},
   "outputs": [],
   "source": [
    "texts = [d['text'] for d in data]\n",
    "stars = [d['stars'] for d in data]"
   ]
  },
  {
   "cell_type": "code",
   "execution_count": null,
   "metadata": {},
   "outputs": [],
   "source": []
  },
  {
   "cell_type": "code",
   "execution_count": 3,
   "metadata": {},
   "outputs": [],
   "source": [
    "from collections import Counter\n",
    "\n",
    "freqs = Counter(stars)\n",
    "\n",
    "# the least common class is the maximum number we want for all classes\n",
    "max_allowable = 5000\n",
    "#max_allowable = freqs.most_common()[-1][1]\n",
    "num_added = {clss: 0 for clss in freqs.keys()}\n",
    "new_stars = []\n",
    "new_texts = []\n",
    "total = 0\n",
    "counter = 0\n",
    "\n",
    "for i, y in enumerate(stars):\n",
    "    total += len(texts[i])\n",
    "    counter += 1\n",
    "\n",
    "avg = total / counter\n",
    "\n",
    " \n",
    "def balance_classes(texts, stars):\n",
    "\n",
    "    freqs = Counter(stars)\n",
    "\n",
    "    # the least common class is the maximum number we want for all classes\n",
    "    max_allowable = 5000\n",
    "    #max_allowable = freqs.most_common()[-1][1]\n",
    "    num_added = {clss: 0 for clss in freqs.keys()}\n",
    "    new_stars = []\n",
    "    new_texts = []\n",
    "    for i, y in enumerate(stars):\n",
    "        if len(texts[i]) < avg*1.5 and len(texts[i]) > avg:\n",
    "            if num_added[y] < max_allowable:\n",
    "                new_stars.append(y)\n",
    "                new_texts.append(texts[i])\n",
    "                num_added[y] += 1\n",
    "    return new_texts, new_stars"
   ]
  },
  {
   "cell_type": "code",
   "execution_count": null,
   "metadata": {},
   "outputs": [],
   "source": []
  },
  {
   "cell_type": "code",
   "execution_count": 4,
   "metadata": {},
   "outputs": [
    {
     "name": "stdout",
     "output_type": "stream",
     "text": [
      "Counter({5.0: 5000, 4.0: 5000, 3.0: 5000, 1.0: 5000, 2.0: 5000})\n"
     ]
    }
   ],
   "source": [
    "#print(Counter(stars))\n",
    "balanced_x, balanced_y = balance_classes(texts, stars)\n",
    "print(Counter(balanced_y))\n",
    "#print(balanced_y[:10])"
   ]
  },
  {
   "cell_type": "code",
   "execution_count": 5,
   "metadata": {},
   "outputs": [],
   "source": [
    "import os\n",
    "os.remove(\"texts.txt\")\n",
    "os.remove(\"stars.txt\")\n",
    "f = open(\"texts.txt\", \"w\")\n",
    "f2 = open(\"stars.txt\", \"w\")\n",
    "for item in balanced_x:\n",
    "    f.write(item + \"Gigliablurb\")\n",
    "for item in balanced_y:\n",
    "    f2.write(str(int(item)) + '\\n')\n",
    "f.close()\n",
    "f2.close()"
   ]
  },
  {
   "cell_type": "markdown",
   "metadata": {},
   "source": [
    "# RUN FROM HERE DOWN -------------------"
   ]
  },
  {
   "cell_type": "code",
   "execution_count": 15,
   "metadata": {},
   "outputs": [
    {
     "name": "stdout",
     "output_type": "stream",
     "text": [
      "25000\n"
     ]
    }
   ],
   "source": [
    "import json\n",
    "import pandas as pd\n",
    "import numpy as np\n",
    "from collections import Counter\n",
    "\n",
    "f = open(\"texts.txt\", \"r\")\n",
    "f2 = open(\"stars.txt\", \"r\")\n",
    "\n",
    "balanced_x = []\n",
    "balanced_y = []\n",
    "listOfLines = f.read().split('Gigliablurb')\n",
    "for item in listOfLines:\n",
    "    balanced_x.append(item)\n",
    "for item in f2.readlines():\n",
    "    balanced_y.append(item)\n",
    "    \n",
    "f.close()\n",
    "f2.close()\n",
    "\n",
    "balanced_x = balanced_x[:-1]\n",
    "print(len(balanced_x))"
   ]
  },
  {
   "cell_type": "code",
   "execution_count": 110,
   "metadata": {},
   "outputs": [
    {
     "name": "stdout",
     "output_type": "stream",
     "text": [
      "0:00:07.999146\n"
     ]
    }
   ],
   "source": [
    "from sklearn.feature_extraction.text import TfidfVectorizer\n",
    "import datetime\n",
    " \n",
    "# This vectorizer breaks text into single words and bi-grams\n",
    "# and then calculates the TF-IDF representation\n",
    "vectorizer = TfidfVectorizer(ngram_range=(1,2), stop_words=\"english\")\n",
    "t1 = datetime.datetime.now()\n",
    " \n",
    "# the 'fit' builds up the vocabulary from all the reviews\n",
    "# while the 'transform' step turns each indivdual text into\n",
    "# a matrix of numbers.\n",
    "vectors = vectorizer.fit_transform(balanced_x)\n",
    "print(datetime.datetime.now() - t1)"
   ]
  },
  {
   "cell_type": "code",
   "execution_count": 111,
   "metadata": {},
   "outputs": [],
   "source": [
    "feature_names = vectorizer.get_feature_names()"
   ]
  },
  {
   "cell_type": "code",
   "execution_count": 112,
   "metadata": {},
   "outputs": [],
   "source": [
    "from sklearn.model_selection import train_test_split\n",
    "X_train, X_test, y_train, y_test = train_test_split(vectors, balanced_y, test_size=0.20, random_state=42)"
   ]
  },
  {
   "cell_type": "code",
   "execution_count": 183,
   "metadata": {},
   "outputs": [
    {
     "name": "stdout",
     "output_type": "stream",
     "text": [
      "0:00:03.210932\n"
     ]
    }
   ],
   "source": [
    "## from sklearn.svm import LinearSVC\n",
    "from sklearn.metrics import classification_report\n",
    "from sklearn.metrics import confusion_matrix\n",
    "from sklearn.metrics import accuracy_score\n",
    "from sklearn.naive_bayes import GaussianNB\n",
    "from sklearn.naive_bayes import MultinomialNB\n",
    "from sklearn.naive_bayes import ComplementNB\n",
    "from sklearn.ensemble import RandomForestClassifier\n",
    "from sklearn.ensemble import AdaBoostClassifier\n",
    "from sklearn.svm import LinearSVC\n",
    "from sklearn import tree\n",
    "from sklearn.neural_network import MLPClassifier\n",
    "\n",
    "# initialise the Naive-Bayes classifier\n",
    "# classifier = MultinomialNB()\n",
    "# classifier = ComplementNB()\n",
    "classifier = LinearSVC()\n",
    "# classifier = tree.DecisionTreeClassifier(max_depth=15)\n",
    "# classifier = RandomForestClassifier(n_estimators=100)\n",
    "# classifier = AdaBoostClassifier(n_estimators=10) #takes 7.5 mins\n",
    "\n",
    "#Run it\n",
    "t1 = datetime.datetime.now()\n",
    "#X_train = X_train.toarray()\n",
    "classifier.fit(X_train, y_train)\n",
    "print(datetime.datetime.now() - t1)"
   ]
  },
  {
   "cell_type": "code",
   "execution_count": 184,
   "metadata": {
    "scrolled": true
   },
   "outputs": [
    {
     "name": "stdout",
     "output_type": "stream",
     "text": [
      "['5\\n', '3\\n', '2\\n', '4\\n', '5\\n', '1\\n', '2\\n', '3\\n', '4\\n', '4\\n']\n",
      "['5\\n', '2\\n', '1\\n', '4\\n', '4\\n', '1\\n', '1\\n', '4\\n', '2\\n', '5\\n']\n"
     ]
    }
   ],
   "source": [
    "preds = classifier.predict(X_test)\n",
    "print(list(preds[:10]))\n",
    "print(y_test[:10])"
   ]
  },
  {
   "cell_type": "code",
   "execution_count": 185,
   "metadata": {},
   "outputs": [
    {
     "name": "stdout",
     "output_type": "stream",
     "text": [
      "0.5546\n"
     ]
    }
   ],
   "source": [
    "from sklearn.metrics import accuracy_score\n",
    "print(accuracy_score(y_test, preds))\n"
   ]
  },
  {
   "cell_type": "code",
   "execution_count": 186,
   "metadata": {},
   "outputs": [
    {
     "name": "stdout",
     "output_type": "stream",
     "text": [
      "              precision    recall  f1-score   support\n",
      "\n",
      "          1\n",
      "       0.65      0.77      0.71       976\n",
      "          2\n",
      "       0.49      0.43      0.45      1003\n",
      "          3\n",
      "       0.46      0.39      0.42       996\n",
      "          4\n",
      "       0.48      0.47      0.48      1008\n",
      "          5\n",
      "       0.65      0.71      0.68      1017\n",
      "\n",
      "    accuracy                           0.55      5000\n",
      "   macro avg       0.54      0.56      0.55      5000\n",
      "weighted avg       0.54      0.55      0.55      5000\n",
      "\n"
     ]
    }
   ],
   "source": [
    "from sklearn.metrics import classification_report\n",
    "print(classification_report(y_test, preds))"
   ]
  },
  {
   "cell_type": "code",
   "execution_count": 187,
   "metadata": {},
   "outputs": [
    {
     "name": "stdout",
     "output_type": "stream",
     "text": [
      "[[753 171  22   6  24]\n",
      " [281 427 198  57  40]\n",
      " [ 74 218 390 240  74]\n",
      " [ 18  51 204 476 259]\n",
      " [ 29  13  34 214 727]]\n"
     ]
    }
   ],
   "source": [
    "from sklearn.metrics import confusion_matrix\n",
    "print(confusion_matrix(y_test, preds))"
   ]
  },
  {
   "cell_type": "code",
   "execution_count": 233,
   "metadata": {
    "scrolled": false
   },
   "outputs": [],
   "source": [
    "# # only for trees --> feature importance\n",
    "\n",
    "# importances = classifier.feature_importances_\n",
    "# indices = np.argsort(importances)[::-1]\n",
    "# # Print the feature ranking\n",
    "# print(\"Feature ranking:\")\n",
    "\n",
    "# for f in range(20):\n",
    "#     print(feature_names[indices[f]])"
   ]
  },
  {
   "cell_type": "code",
   "execution_count": 210,
   "metadata": {},
   "outputs": [],
   "source": [
    "from sklearn.metrics import roc_curve, auc\n",
    "from sklearn.metrics import roc_auc_score\n",
    "\n",
    "# Compute ROC curve and ROC area for each class\n",
    "fpr = dict()\n",
    "tpr = dict()\n",
    "roc_auc = dict()\n",
    "y_score = classifier.fit(X_train, y_train).decision_function(X_test)\n",
    "new_y_test = []\n",
    "for rating in y_test:\n",
    "    if rating == '5\\n':\n",
    "        new_y_test.append([0,0,0,0,1])\n",
    "    elif rating == '4\\n':\n",
    "        new_y_test.append([0,0,0,1,0])\n",
    "    elif rating == '3\\n':\n",
    "        new_y_test.append([0,0,1,0,0])\n",
    "    elif rating == '2\\n':\n",
    "        new_y_test.append([0,1,0,0,0])\n",
    "    elif rating == '1\\n':\n",
    "        new_y_test.append([1,0,0,0,0])\n",
    "new_y_test = np.array(new_y_test)\n",
    "for i in range(5):\n",
    "    fpr[i], tpr[i], _ = roc_curve(new_y_test[:, i], y_score[:, i])\n",
    "    roc_auc[i] = auc(fpr[i], tpr[i])\n",
    "\n",
    "# Compute micro-average ROC curve and ROC area\n",
    "fpr[\"micro\"], tpr[\"micro\"], _ = roc_curve(new_y_test.ravel(), y_score.ravel())\n",
    "roc_auc[\"micro\"] = auc(fpr[\"micro\"], tpr[\"micro\"])"
   ]
  },
  {
   "cell_type": "code",
   "execution_count": 231,
   "metadata": {},
   "outputs": [
    {
     "data": {
      "image/png": "[encoded data removed]",
      "text/plain": [
       "<Figure size 432x288 with 1 Axes>"
      ]
     },
     "metadata": {
      "needs_background": "light"
     },
     "output_type": "display_data"
    }
   ],
   "source": [
    "import matplotlib.pyplot as plt\n",
    "from scipy import interp\n",
    "from itertools import cycle\n",
    "\n",
    "# First aggregate all false positive rates\n",
    "all_fpr = np.unique(np.concatenate([fpr[i] for i in range(5)]))\n",
    "\n",
    "# Then interpolate all ROC curves at this points\n",
    "mean_tpr = np.zeros_like(all_fpr)\n",
    "for i in range(5):\n",
    "    mean_tpr += interp(all_fpr, fpr[i], tpr[i])\n",
    "\n",
    "# Finally average it and compute AUC\n",
    "mean_tpr /= 5\n",
    "\n",
    "fpr[\"macro\"] = all_fpr\n",
    "tpr[\"macro\"] = mean_tpr\n",
    "roc_auc[\"macro\"] = auc(fpr[\"macro\"], tpr[\"macro\"])\n",
    "\n",
    "# Plot all ROC curves\n",
    "plt.figure()\n",
    "# plt.plot(fpr[\"micro\"], tpr[\"micro\"],\n",
    "#          label='micro-average ROC curve (area = {0:0.2f})'\n",
    "#                ''.format(roc_auc[\"micro\"]),\n",
    "#          color='deeppink', linestyle=':', linewidth=4)\n",
    "\n",
    "# plt.plot(fpr[\"macro\"], tpr[\"macro\"],\n",
    "#          label='macro-average ROC curve (area = {0:0.2f})'\n",
    "#                ''.format(roc_auc[\"macro\"]),\n",
    "#          color='navy', linestyle=':', linewidth=4)\n",
    "\n",
    "colors = cycle(['cadetblue', 'darkorange', 'darkslategray', 'green', 'deeppink'])\n",
    "for i, color in zip(range(5), colors):\n",
    "    plt.plot(fpr[i], tpr[i], color=color, lw=lw,\n",
    "             label='ROC curve of class {0} (area = {1:0.2f})'\n",
    "             ''.format(i+1, roc_auc[i]))\n",
    "\n",
    "plt.plot([0, 1], [0, 1], 'k--', lw=lw)\n",
    "plt.xlim([0.0, 1.0])\n",
    "plt.ylim([0.0, 1.05])\n",
    "plt.xlabel('False Positive Rate')\n",
    "plt.ylabel('True Positive Rate')\n",
    "plt.title('Multi-Class ROC Curve')\n",
    "plt.legend(loc=\"lower right\")\n",
    "plt.show()"
   ]
  },
  {
   "cell_type": "code",
   "execution_count": null,
   "metadata": {},
   "outputs": [],
   "source": []
  }
 ],
 "metadata": {
  "kernelspec": {
   "display_name": "Python 3",
   "language": "python",
   "name": "python3"
  },
  "language_info": {
   "codemirror_mode": {
    "name": "ipython",
    "version": 3
   },
   "file_extension": ".py",
   "mimetype": "text/x-python",
   "name": "python",
   "nbconvert_exporter": "python",
   "pygments_lexer": "ipython3",
   "version": "3.7.4"
  }
 },
 "nbformat": 4,
 "nbformat_minor": 2
}
