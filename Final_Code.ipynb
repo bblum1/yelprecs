{
 "cells": [
  {
   "cell_type": "markdown",
   "metadata": {},
   "source": [
    "# Yelp Review Rating Recommender"
   ]
  },
  {
   "cell_type": "markdown",
   "metadata": {},
   "source": [
    "### by Bailey Blum, Molly Giglia, Horacio Lopez & Ale Lopez"
   ]
  },
  {
   "cell_type": "markdown",
   "metadata": {},
   "source": [
    "# Section 1"
   ]
  },
  {
   "cell_type": "markdown",
   "metadata": {},
   "source": [
    "This section loads the initial data file \"reviews.json\" into memory. It performs data preprocessing, and condenses our data into 5000 reviews per star class. It chooses the reviews that are in the third quartile of length (50%-75%). "
   ]
  },
  {
   "cell_type": "markdown",
   "metadata": {},
   "source": [
    "This code will take a VERY VERY long time to run, so DO NOT run it! Section 2 is where our actual model training and evaluation happens."
   ]
  },
  {
   "cell_type": "code",
   "execution_count": 1,
   "metadata": {},
   "outputs": [],
   "source": [
    "import json\n",
    "import pandas as pd\n",
    "    \n",
    "\n",
    "with open('yelp_dataset/review.json') as json_file:      \n",
    "    data = json_file.readlines()\n",
    "    # this line below may take at least 8-10 minutes of processing for 4-5 million rows. It converts all strings in list to actual json objects. \n",
    "    data = list(map(json.loads, data)) "
   ]
  },
  {
   "cell_type": "code",
   "execution_count": 2,
   "metadata": {},
   "outputs": [],
   "source": [
    "texts = [d['text'] for d in data]\n",
    "stars = [d['stars'] for d in data]"
   ]
  },
  {
   "cell_type": "code",
   "execution_count": 3,
   "metadata": {},
   "outputs": [],
   "source": [
    "from collections import Counter\n",
    "\n",
    "freqs = Counter(stars)\n",
    "\n",
    "# the least common class is the maximum number we want for all classes\n",
    "max_allowable = 5000\n",
    "#max_allowable = freqs.most_common()[-1][1]\n",
    "num_added = {clss: 0 for clss in freqs.keys()}\n",
    "new_stars = []\n",
    "new_texts = []\n",
    "total = 0\n",
    "counter = 0\n",
    "\n",
    "for i, y in enumerate(stars):\n",
    "    total += len(texts[i])\n",
    "    counter += 1\n",
    "\n",
    "avg = total / counter #this calculates the average length of the reviews.\n",
    "\n",
    " \n",
    "def balance_classes(texts, stars):\n",
    "\n",
    "    freqs = Counter(stars)\n",
    "\n",
    "    # the least common class is the maximum number we want for all classes\n",
    "    max_allowable = 5000\n",
    "    #max_allowable = freqs.most_common()[-1][1]\n",
    "    num_added = {clss: 0 for clss in freqs.keys()}\n",
    "    new_stars = []\n",
    "    new_texts = []\n",
    "    for i, y in enumerate(stars):\n",
    "        if len(texts[i]) < avg*1.5 and len(texts[i]) > avg: #only includes reviews in the third quartile. \n",
    "            if num_added[y] < max_allowable:\n",
    "                new_stars.append(y)\n",
    "                new_texts.append(texts[i])\n",
    "                num_added[y] += 1\n",
    "    return new_texts, new_stars"
   ]
  },
  {
   "cell_type": "code",
   "execution_count": null,
   "metadata": {},
   "outputs": [],
   "source": []
  },
  {
   "cell_type": "code",
   "execution_count": 4,
   "metadata": {},
   "outputs": [
    {
     "name": "stdout",
     "output_type": "stream",
     "text": [
      "Counter({5.0: 5000, 4.0: 5000, 3.0: 5000, 1.0: 5000, 2.0: 5000})\n"
     ]
    }
   ],
   "source": [
    "#print(Counter(stars))\n",
    "balanced_x, balanced_y = balance_classes(texts, stars)\n",
    "print(Counter(balanced_y))\n",
    "#print(balanced_y[:10])"
   ]
  },
  {
   "cell_type": "code",
   "execution_count": 5,
   "metadata": {},
   "outputs": [],
   "source": [
    "import os\n",
    "os.remove(\"texts.txt\")\n",
    "os.remove(\"stars.txt\")\n",
    "f = open(\"texts.txt\", \"w\")\n",
    "f2 = open(\"stars.txt\", \"w\")\n",
    "for item in balanced_x:\n",
    "    f.write(item + \"Gigliablurb\") #will be used as a unique identifier to split our reviews later.\n",
    "for item in balanced_y:\n",
    "    f2.write(str(int(item)) + '\\n')\n",
    "f.close()\n",
    "f2.close()"
   ]
  },
  {
   "cell_type": "markdown",
   "metadata": {},
   "source": [
    "# Section 2"
   ]
  },
  {
   "cell_type": "markdown",
   "metadata": {},
   "source": [
    "This section is where the actual training of our models and analysis happens. Run from here down!"
   ]
  },
  {
   "cell_type": "code",
   "execution_count": 10,
   "metadata": {},
   "outputs": [
    {
     "name": "stdout",
     "output_type": "stream",
     "text": [
      "25000\n"
     ]
    }
   ],
   "source": [
    "import json\n",
    "import pandas as pd\n",
    "import numpy as np\n",
    "from collections import Counter\n",
    "from pylab import *\n",
    "\n",
    "f = open(\"texts.txt\", \"r\")\n",
    "f2 = open(\"stars.txt\", \"r\")\n",
    "\n",
    "balanced_x = []\n",
    "balanced_y = []\n",
    "listOfLines = f.read().split('Gigliablurb') #acts as a unique identifier to split our reviews. \n",
    "for item in listOfLines:\n",
    "    balanced_x.append(item)\n",
    "for item in f2.readlines():\n",
    "    balanced_y.append(item)\n",
    "    \n",
    "f.close()\n",
    "f2.close()\n",
    "\n",
    "balanced_x = balanced_x[:-1]\n",
    "print(len(balanced_x))"
   ]
  },
  {
   "cell_type": "code",
   "execution_count": 11,
   "metadata": {},
   "outputs": [
    {
     "name": "stdout",
     "output_type": "stream",
     "text": [
      "0:00:09.851883\n"
     ]
    }
   ],
   "source": [
    "from sklearn.feature_extraction.text import TfidfVectorizer\n",
    "import datetime\n",
    " \n",
    "# This vectorizer breaks text into single words and bi-grams\n",
    "# and then calculates the TF-IDF representation\n",
    "vectorizer = TfidfVectorizer(ngram_range=(1,2), stop_words=\"english\")\n",
    "t1 = datetime.datetime.now()\n",
    " \n",
    "# the 'fit' builds up the vocabulary from all the reviews\n",
    "# while the 'transform' step turns each indivdual text into\n",
    "# a matrix of numbers.\n",
    "vectors = vectorizer.fit_transform(balanced_x)\n",
    "print(datetime.datetime.now() - t1)"
   ]
  },
  {
   "cell_type": "code",
   "execution_count": 12,
   "metadata": {},
   "outputs": [],
   "source": [
    "feature_names = vectorizer.get_feature_names()"
   ]
  },
  {
   "cell_type": "code",
   "execution_count": 13,
   "metadata": {},
   "outputs": [],
   "source": [
    "from sklearn.model_selection import train_test_split\n",
    "X_train, X_test, y_train, y_test = train_test_split(vectors, balanced_y, test_size=0.20, random_state=42) #performs our train test split."
   ]
  },
  {
   "cell_type": "code",
   "execution_count": 14,
   "metadata": {},
   "outputs": [
    {
     "name": "stderr",
     "output_type": "stream",
     "text": [
      "/usr/local/lib/python3.7/site-packages/sklearn/linear_model/logistic.py:432: FutureWarning: Default solver will be changed to 'lbfgs' in 0.22. Specify a solver to silence this warning.\n",
      "  FutureWarning)\n",
      "/usr/local/lib/python3.7/site-packages/sklearn/linear_model/logistic.py:469: FutureWarning: Default multi_class will be changed to 'auto' in 0.22. Specify the multi_class option to silence this warning.\n",
      "  \"this warning.\", FutureWarning)\n"
     ]
    },
    {
     "name": "stdout",
     "output_type": "stream",
     "text": [
      "0:00:05.695384\n"
     ]
    }
   ],
   "source": [
    "## from sklearn.svm import LinearSVC\n",
    "from sklearn.metrics import classification_report\n",
    "from sklearn.metrics import confusion_matrix\n",
    "from sklearn.metrics import accuracy_score\n",
    "from sklearn.naive_bayes import GaussianNB\n",
    "from sklearn.naive_bayes import MultinomialNB\n",
    "from sklearn.naive_bayes import ComplementNB\n",
    "from sklearn.ensemble import RandomForestClassifier\n",
    "from sklearn.ensemble import AdaBoostClassifier\n",
    "from sklearn.svm import LinearSVC\n",
    "from sklearn import tree\n",
    "from sklearn.linear_model import LogisticRegression\n",
    "from sklearn.neural_network import MLPClassifier\n",
    "\n",
    "#Model Classifications\n",
    "\n",
    "# initialise the Naive-Bayes classifier\n",
    "# classifier = MultinomialNB()\n",
    "# classifier = ComplementNB()\n",
    "#classifier = LinearSVC()\n",
    "# classifier = tree.DecisionTreeClassifier(max_depth=15)\n",
    "# classifier = RandomForestClassifier(n_estimators=100)\n",
    "# classifier = AdaBoostClassifier(n_estimators=10) #takes 7.5 mins\n",
    "classifier = LogisticRegression()\n",
    "\n",
    "#Run it\n",
    "t1 = datetime.datetime.now()\n",
    "#X_train = X_train.toarray()\n",
    "classifier.fit(X_train, y_train)\n",
    "print(datetime.datetime.now() - t1)"
   ]
  },
  {
   "cell_type": "code",
   "execution_count": 15,
   "metadata": {
    "scrolled": true
   },
   "outputs": [
    {
     "name": "stdout",
     "output_type": "stream",
     "text": [
      "['5\\n', '4\\n', '2\\n', '4\\n', '5\\n', '1\\n', '2\\n', '5\\n', '4\\n', '4\\n']\n",
      "['5\\n', '2\\n', '1\\n', '4\\n', '4\\n', '1\\n', '1\\n', '4\\n', '2\\n', '5\\n']\n"
     ]
    }
   ],
   "source": [
    "preds = classifier.predict(X_test) #show sample predictions vs actual results.\n",
    "print(list(preds[:10]))\n",
    "print(y_test[:10])"
   ]
  },
  {
   "cell_type": "markdown",
   "metadata": {},
   "source": [
    "### Accuracy Score"
   ]
  },
  {
   "cell_type": "code",
   "execution_count": 16,
   "metadata": {},
   "outputs": [
    {
     "name": "stdout",
     "output_type": "stream",
     "text": [
      "0.5584\n"
     ]
    }
   ],
   "source": [
    "from sklearn.metrics import accuracy_score\n",
    "print(accuracy_score(y_test, preds))\n"
   ]
  },
  {
   "cell_type": "markdown",
   "metadata": {},
   "source": [
    "### Precision, Recall, F1"
   ]
  },
  {
   "cell_type": "code",
   "execution_count": 17,
   "metadata": {},
   "outputs": [
    {
     "name": "stdout",
     "output_type": "stream",
     "text": [
      "              precision    recall  f1-score   support\n",
      "\n",
      "          1\n",
      "       0.64      0.76      0.70       976\n",
      "          2\n",
      "       0.50      0.43      0.46      1003\n",
      "          3\n",
      "       0.48      0.40      0.44       996\n",
      "          4\n",
      "       0.49      0.50      0.50      1008\n",
      "          5\n",
      "       0.65      0.69      0.67      1017\n",
      "\n",
      "    accuracy                           0.56      5000\n",
      "   macro avg       0.55      0.56      0.55      5000\n",
      "weighted avg       0.55      0.56      0.55      5000\n",
      "\n"
     ]
    }
   ],
   "source": [
    "from sklearn.metrics import classification_report\n",
    "print(classification_report(y_test, preds))"
   ]
  },
  {
   "cell_type": "markdown",
   "metadata": {},
   "source": [
    "### Confusion Matrix"
   ]
  },
  {
   "cell_type": "code",
   "execution_count": 18,
   "metadata": {},
   "outputs": [
    {
     "name": "stdout",
     "output_type": "stream",
     "text": [
      "[[746 171  25  10  24]\n",
      " [269 433 202  51  48]\n",
      " [ 77 211 399 241  68]\n",
      " [ 34  46 181 508 239]\n",
      " [ 44   9  26 232 706]]\n"
     ]
    }
   ],
   "source": [
    "from sklearn.metrics import confusion_matrix\n",
    "print(confusion_matrix(y_test, preds))"
   ]
  },
  {
   "cell_type": "code",
   "execution_count": 19,
   "metadata": {
    "scrolled": false
   },
   "outputs": [],
   "source": [
    "# # only for trees --> feature importance\n",
    "\n",
    "# importances = classifier.feature_importances_\n",
    "# indices = np.argsort(importances)[::-1]\n",
    "# # Print the feature ranking\n",
    "# print(\"Feature ranking:\")\n",
    "\n",
    "# for f in range(20):\n",
    "#     print(feature_names[indices[f]])"
   ]
  },
  {
   "cell_type": "markdown",
   "metadata": {},
   "source": [
    "### ROC Curve"
   ]
  },
  {
   "cell_type": "code",
   "execution_count": 20,
   "metadata": {},
   "outputs": [],
   "source": [
    "from sklearn.metrics import roc_curve, auc\n",
    "from sklearn.metrics import roc_auc_score\n",
    "\n",
    "# Compute ROC curve and ROC area for each class\n",
    "fpr = dict()\n",
    "tpr = dict()\n",
    "roc_auc = dict()\n",
    "y_score = classifier.fit(X_train, y_train).decision_function(X_test)\n",
    "new_y_test = []\n",
    "for rating in y_test:\n",
    "    if rating == '5\\n':\n",
    "        new_y_test.append([0,0,0,0,1])\n",
    "    elif rating == '4\\n':\n",
    "        new_y_test.append([0,0,0,1,0])\n",
    "    elif rating == '3\\n':\n",
    "        new_y_test.append([0,0,1,0,0])\n",
    "    elif rating == '2\\n':\n",
    "        new_y_test.append([0,1,0,0,0])\n",
    "    elif rating == '1\\n':\n",
    "        new_y_test.append([1,0,0,0,0])\n",
    "new_y_test = np.array(new_y_test)\n",
    "for i in range(5):\n",
    "    fpr[i], tpr[i], _ = roc_curve(new_y_test[:, i], y_score[:, i])\n",
    "    roc_auc[i] = auc(fpr[i], tpr[i])\n",
    "\n",
    "# Compute micro-average ROC curve and ROC area\n",
    "fpr[\"micro\"], tpr[\"micro\"], _ = roc_curve(new_y_test.ravel(), y_score.ravel())\n",
    "roc_auc[\"micro\"] = auc(fpr[\"micro\"], tpr[\"micro\"])"
   ]
  },
  {
   "cell_type": "code",
   "execution_count": 21,
   "metadata": {},
   "outputs": [
    {
     "data": {
      "image/png": "[encoded data removed]",
      "text/plain": [
       "<Figure size 432x288 with 1 Axes>"
      ]
     },
     "metadata": {
      "needs_background": "light"
     },
     "output_type": "display_data"
    }
   ],
   "source": [
    "import matplotlib.pyplot as plt\n",
    "from scipy import interp\n",
    "from itertools import cycle\n",
    "\n",
    "# First aggregate all false positive rates\n",
    "all_fpr = np.unique(np.concatenate([fpr[i] for i in range(5)]))\n",
    "\n",
    "# Then interpolate all ROC curves at this points\n",
    "mean_tpr = np.zeros_like(all_fpr)\n",
    "for i in range(5):\n",
    "    mean_tpr += interp(all_fpr, fpr[i], tpr[i])\n",
    "\n",
    "# Finally average it and compute AUC\n",
    "mean_tpr /= 5\n",
    "\n",
    "fpr[\"macro\"] = all_fpr\n",
    "tpr[\"macro\"] = mean_tpr\n",
    "roc_auc[\"macro\"] = auc(fpr[\"macro\"], tpr[\"macro\"])\n",
    "\n",
    "# Plot all ROC curves\n",
    "plt.figure()\n",
    "# plt.plot(fpr[\"micro\"], tpr[\"micro\"],\n",
    "#          label='micro-average ROC curve (area = {0:0.2f})'\n",
    "#                ''.format(roc_auc[\"micro\"]),\n",
    "#          color='deeppink', linestyle=':', linewidth=4)\n",
    "\n",
    "# plt.plot(fpr[\"macro\"], tpr[\"macro\"],\n",
    "#          label='macro-average ROC curve (area = {0:0.2f})'\n",
    "#                ''.format(roc_auc[\"macro\"]),\n",
    "#          color='navy', linestyle=':', linewidth=4)\n",
    "\n",
    "colors = cycle(['cadetblue', 'darkorange', 'darkslategray', 'green', 'deeppink'])\n",
    "for i, color in zip(range(5), colors):\n",
    "    plt.plot(fpr[i], tpr[i], color=color, lw=2,\n",
    "             label='ROC curve of class {0} (area = {1:0.2f})'\n",
    "             ''.format(i+1, roc_auc[i]))\n",
    "\n",
    "plt.plot([0, 1], [0, 1], 'k--', lw=2)\n",
    "plt.xlim([0.0, 1.0])\n",
    "plt.ylim([0.0, 1.05])\n",
    "plt.xlabel('False Positive Rate')\n",
    "plt.ylabel('True Positive Rate')\n",
    "plt.title('Multi-Class ROC Curve')\n",
    "plt.legend(loc=\"lower right\")\n",
    "plt.show()"
   ]
  },
  {
   "cell_type": "markdown",
   "metadata": {},
   "source": [
    "### Feature Analysis"
   ]
  },
  {
   "cell_type": "code",
   "execution_count": 22,
   "metadata": {
    "scrolled": true
   },
   "outputs": [],
   "source": [
    "tf = []\n",
    "bf = []\n",
    "\n",
    "def plot_coefficients(classifier, feature_names, top_features=20):\n",
    "\n",
    "    # Access the coefficients from classifier\n",
    "    coef = classifier.coef_\n",
    "\n",
    "    # Access the classes\n",
    "    classes = classifier.classes_\n",
    "\n",
    "    # Iterate the loop for number of classes\n",
    "    for i in range(len(classes)):\n",
    "        print(classes[i])\n",
    "\n",
    "        class_coef = coef[i]\n",
    "        feature_names = np.array(feature_names)\n",
    "        top_positive_coefficients = np.argsort(class_coef)[-top_features:]\n",
    "        top_negative_coefficients = np.argsort(class_coef)[:top_features]\n",
    "        tf.append(feature_names[np.array(top_positive_coefficients)])\n",
    "        bf.append(feature_names[np.array(top_negative_coefficients)])\n",
    "        \n",
    "        top_coefficients = np.hstack([top_negative_coefficients, \n",
    "                                      top_positive_coefficients])\n",
    "        plt.figure(figsize=(10, 3))\n",
    "\n",
    "        colors = [\"red\" if c < 0 else \"blue\" for c in class_coef[top_coefficients]]\n",
    "        plt.bar(np.arange(2 * top_features), class_coef[top_coefficients], color=colors)\n",
    "       \n",
    "\n",
    "        plt.xticks(np.arange(0, 1 + 2 * top_features), \n",
    "                   feature_names[top_coefficients], rotation=60, ha=\"right\")\n",
    "        plt.show()"
   ]
  },
  {
   "cell_type": "code",
   "execution_count": 23,
   "metadata": {},
   "outputs": [
    {
     "name": "stdout",
     "output_type": "stream",
     "text": [
      "1\n",
      "\n"
     ]
    },
    {
     "data": {
      "image/png": "[encoded data removed]",
      "text/plain": [
       "<Figure size 720x216 with 1 Axes>"
      ]
     },
     "metadata": {
      "needs_background": "light"
     },
     "output_type": "display_data"
    },
    {
     "name": "stdout",
     "output_type": "stream",
     "text": [
      "2\n",
      "\n"
     ]
    },
    {
     "data": {
      "image/png": "[encoded data removed]",
      "text/plain": [
       "<Figure size 720x216 with 1 Axes>"
      ]
     },
     "metadata": {
      "needs_background": "light"
     },
     "output_type": "display_data"
    },
    {
     "name": "stdout",
     "output_type": "stream",
     "text": [
      "3\n",
      "\n"
     ]
    },
    {
     "data": {
      "image/png": "[encoded data removed]",
      "text/plain": [
       "<Figure size 720x216 with 1 Axes>"
      ]
     },
     "metadata": {
      "needs_background": "light"
     },
     "output_type": "display_data"
    },
    {
     "name": "stdout",
     "output_type": "stream",
     "text": [
      "4\n",
      "\n"
     ]
    },
    {
     "data": {
      "image/png": "[encoded data removed]",
      "text/plain": [
       "<Figure size 720x216 with 1 Axes>"
      ]
     },
     "metadata": {
      "needs_background": "light"
     },
     "output_type": "display_data"
    },
    {
     "name": "stdout",
     "output_type": "stream",
     "text": [
      "5\n",
      "\n"
     ]
    },
    {
     "data": {
      "image/png": "[encoded data removed]",
      "text/plain": [
       "<Figure size 720x216 with 1 Axes>"
      ]
     },
     "metadata": {
      "needs_background": "light"
     },
     "output_type": "display_data"
    }
   ],
   "source": [
    "plot_coefficients(classifier, feature_names, 20)"
   ]
  },
  {
   "cell_type": "markdown",
   "metadata": {},
   "source": [
    "# Demo"
   ]
  },
  {
   "cell_type": "code",
   "execution_count": 24,
   "metadata": {},
   "outputs": [
    {
     "data": {
      "application/vnd.jupyter.widget-view+json": {
       "model_id": "25c1365718a644f4a5074e97a52ad856",
       "version_major": 2,
       "version_minor": 0
      },
      "text/plain": [
       "Text(value='')"
      ]
     },
     "metadata": {},
     "output_type": "display_data"
    }
   ],
   "source": [
    "from ipywidgets import widgets\n",
    "from IPython.display import display\n",
    "text = widgets.Text()\n",
    "display(text)\n",
    "def handle_submit(sender):\n",
    "    val = text.value\n",
    "    balanced_x.append(val)\n",
    "    vectors = vectorizer.fit_transform(balanced_x)\n",
    "    preds = classifier.predict(vectors)\n",
    "    print(preds[-1])\n",
    "    \n",
    "text.on_submit(handle_submit)"
   ]
  },
  {
   "cell_type": "markdown",
   "metadata": {},
   "source": [
    "### Exploration w/ Jaccard Similarity of Important Features "
   ]
  },
  {
   "cell_type": "code",
   "execution_count": 25,
   "metadata": {},
   "outputs": [
    {
     "data": {
      "text/plain": [
       "[array(['disgusting', 'paid', 'charged', 'bad', 'zero', 'waste', 'left',\n",
       "        'customer', 'business', 'company', 'asked', 'called', 'said',\n",
       "        'manager', 'rude', 'terrible', 'money', 'horrible', 'told',\n",
       "        'worst'], dtype='<U66'),\n",
       " array(['barely', 'bad', 'unfortunately', 'average', 'meh', 'maybe',\n",
       "        'okay', 'won', 'food', 'tasted', 'just', 'wasn', 'dry', 'ordered',\n",
       "        'better', 'mediocre', 'ok', 'disappointing', 'disappointed',\n",
       "        'bland'], dtype='<U66'),\n",
       " array(['selection', 'slow', 'really', 'little', 'probably', 'wasn',\n",
       "        'average', 'nice', 'maybe', 'pretty good', 'quite', 'think',\n",
       "        'okay', 'stars', 'overall', 'pretty', 'decent', 'ok', 'bit',\n",
       "        'good'], dtype='<U66'),\n",
       " array(['loved', 'solid', 'large', 'fun', 'perfect', 'yummy', 'fresh',\n",
       "        'bit', 'really good', 'friendly', 'spot', 'pretty', 'enjoyed',\n",
       "        'tasty', 'nice', 'definitely', 'little', 'good', 'great',\n",
       "        'delicious'], dtype='<U66'),\n",
       " array(['happy', 'helpful', 'wonderful', 'definitely', 'excellent',\n",
       "        'recommend', 'professional', 'dr', 'fantastic', 'favorite',\n",
       "        'highly recommend', 'thank', 'perfect', 'awesome', 'highly',\n",
       "        'delicious', 'love', 'great', 'best', 'amazing'], dtype='<U66')]"
      ]
     },
     "execution_count": 25,
     "metadata": {},
     "output_type": "execute_result"
    }
   ],
   "source": [
    "tf"
   ]
  },
  {
   "cell_type": "code",
   "execution_count": 26,
   "metadata": {},
   "outputs": [
    {
     "data": {
      "text/plain": [
       "[array(['great', 'good', 'delicious', 'friendly', 'nice', 'little',\n",
       "        'amazing', 'love', 'pretty', 'best', 'really', 'definitely', 'bit',\n",
       "        'stars', 'perfect', 'overall', 'awesome', 'happy', 'excellent',\n",
       "        'tasty'], dtype='<U66'),\n",
       " array(['delicious', 'amazing', 'great', 'definitely', 'love', 'perfect',\n",
       "        'fun', 'best', 'recommend', 'excellent', 'tasty', 'loved',\n",
       "        'awesome', 'favorite', 'company', 'helpful', 'little', 'fantastic',\n",
       "        'highly', 'enjoyed'], dtype='<U66'),\n",
       " array(['recommend', 'perfect', 'worst', 'told', 'amazing', 'going',\n",
       "        'delicious', 'called', 'customer', 'highly', 'money', 'company',\n",
       "        'horrible', 'manager', 'absolutely', 'terrible',\n",
       "        'highly recommend', 'experience', 'best', 'care'], dtype='<U66'),\n",
       " array(['asked', 'told', 'bland', 'ok', 'bad', 'worst', 'disappointed',\n",
       "        'customer', 'said', 'won', 'horrible', 'disappointing', 'just',\n",
       "        'dry', 'terrible', 'manager', 'okay', 'mediocre', 'money',\n",
       "        'called'], dtype='<U66'),\n",
       " array(['told', 'ok', 'didn', 'pretty', 'bad', 'said', 'rude', 'food',\n",
       "        'decent', 'wasn', 'ordered', 'good', 'stars', 'worst', 'terrible',\n",
       "        'maybe', 'horrible', 'asked', 'okay', 'reason'], dtype='<U66')]"
      ]
     },
     "execution_count": 26,
     "metadata": {},
     "output_type": "execute_result"
    }
   ],
   "source": [
    "bf"
   ]
  },
  {
   "cell_type": "code",
   "execution_count": 27,
   "metadata": {},
   "outputs": [],
   "source": [
    "def jaccard_similarity(list1, list2):\n",
    "    intersection = len(list(set(list1).intersection(list2)))\n",
    "    union = (len(list1) + len(list2)) - intersection\n",
    "    return float(intersection) / union"
   ]
  },
  {
   "cell_type": "code",
   "execution_count": 28,
   "metadata": {},
   "outputs": [
    {
     "name": "stdout",
     "output_type": "stream",
     "text": [
      "0.02564102564102564\n",
      "0.14285714285714285\n",
      "0.14285714285714285\n",
      "0.1111111111111111\n"
     ]
    }
   ],
   "source": [
    "for i in range(4):\n",
    "    print(jaccard_similarity(tf[i], tf[i+1]))"
   ]
  },
  {
   "cell_type": "code",
   "execution_count": 29,
   "metadata": {},
   "outputs": [
    {
     "name": "stdout",
     "output_type": "stream",
     "text": [
      "0.3793103448275862\n",
      "0.21212121212121213\n",
      "0.25\n",
      "0.2903225806451613\n"
     ]
    }
   ],
   "source": [
    "for i in range(4):\n",
    "    print(jaccard_similarity(bf[i], bf[i+1]))"
   ]
  },
  {
   "cell_type": "code",
   "execution_count": 30,
   "metadata": {},
   "outputs": [
    {
     "data": {
      "text/plain": [
       "0.3333333333333333"
      ]
     },
     "execution_count": 30,
     "metadata": {},
     "output_type": "execute_result"
    }
   ],
   "source": [
    "jaccard_similarity(bf[0], tf[4])"
   ]
  },
  {
   "cell_type": "code",
   "execution_count": 31,
   "metadata": {},
   "outputs": [
    {
     "data": {
      "text/plain": [
       "0.21212121212121213"
      ]
     },
     "execution_count": 31,
     "metadata": {},
     "output_type": "execute_result"
    }
   ],
   "source": [
    "jaccard_similarity(bf[4], tf[1])"
   ]
  },
  {
   "cell_type": "code",
   "execution_count": 32,
   "metadata": {},
   "outputs": [
    {
     "name": "stdout",
     "output_type": "stream",
     "text": [
      "0.3333333333333333\n",
      "0.5384615384615384\n",
      "0.21212121212121213\n",
      "0.0\n"
     ]
    }
   ],
   "source": [
    "for i in [0, 1, 2, 3]:\n",
    "    print(jaccard_similarity(tf[4], bf[i]))"
   ]
  },
  {
   "cell_type": "code",
   "execution_count": 33,
   "metadata": {},
   "outputs": [
    {
     "name": "stdout",
     "output_type": "stream",
     "text": [
      "0.3793103448275862\n",
      "0.2903225806451613\n",
      "0.05263157894736842\n",
      "0.05263157894736842\n"
     ]
    }
   ],
   "source": [
    "for i in [0, 1, 2, 4]:\n",
    "    print(jaccard_similarity(tf[3], bf[i]))"
   ]
  },
  {
   "cell_type": "code",
   "execution_count": 34,
   "metadata": {},
   "outputs": [
    {
     "name": "stdout",
     "output_type": "stream",
     "text": [
      "0.25\n",
      "0.02564102564102564\n",
      "0.05263157894736842\n",
      "0.25\n"
     ]
    }
   ],
   "source": [
    "for i in [0, 1, 3, 4]:\n",
    "    print(jaccard_similarity(tf[2], bf[i]))"
   ]
  },
  {
   "cell_type": "code",
   "execution_count": 35,
   "metadata": {},
   "outputs": [
    {
     "name": "stdout",
     "output_type": "stream",
     "text": [
      "0.0\n",
      "0.0\n",
      "0.3333333333333333\n",
      "0.21212121212121213\n"
     ]
    }
   ],
   "source": [
    "for i in [0, 2, 3, 4]:\n",
    "    print(jaccard_similarity(tf[1], bf[i]))"
   ]
  },
  {
   "cell_type": "code",
   "execution_count": 36,
   "metadata": {},
   "outputs": [
    {
     "name": "stdout",
     "output_type": "stream",
     "text": [
      "0.02564102564102564\n",
      "0.2903225806451613\n",
      "0.3793103448275862\n",
      "0.25\n"
     ]
    }
   ],
   "source": [
    "for i in [1, 2, 3, 4]:\n",
    "    print(jaccard_similarity(tf[0], bf[i]))"
   ]
  },
  {
   "cell_type": "code",
   "execution_count": 37,
   "metadata": {},
   "outputs": [
    {
     "data": {
      "text/plain": [
       "['00',\n",
       " '00 00',\n",
       " '00 05',\n",
       " '00 10',\n",
       " '00 100',\n",
       " '00 11',\n",
       " '00 12',\n",
       " '00 14',\n",
       " '00 15',\n",
       " '00 16oz',\n",
       " '00 20',\n",
       " '00 200',\n",
       " '00 25',\n",
       " '00 30',\n",
       " '00 30am',\n",
       " '00 45',\n",
       " '00 50',\n",
       " '00 ac',\n",
       " '00 added',\n",
       " '00 additional',\n",
       " '00 admission',\n",
       " '00 adults',\n",
       " '00 advised',\n",
       " '00 afternoon',\n",
       " '00 album',\n",
       " '00 allegiant',\n",
       " '00 american',\n",
       " '00 answer',\n",
       " '00 anyways',\n",
       " '00 appointment',\n",
       " '00 approximately',\n",
       " '00 array',\n",
       " '00 arrived',\n",
       " '00 ashley',\n",
       " '00 asked',\n",
       " '00 average',\n",
       " '00 avoue',\n",
       " '00 bacon',\n",
       " '00 based',\n",
       " '00 basic',\n",
       " '00 beat',\n",
       " '00 believe',\n",
       " '00 best',\n",
       " '00 beverages',\n",
       " '00 bites',\n",
       " '00 book',\n",
       " '00 books',\n",
       " '00 borscht',\n",
       " '00 bottle',\n",
       " '00 bottomless',\n",
       " '00 breakfast',\n",
       " '00 bring',\n",
       " '00 bucks',\n",
       " '00 buddy',\n",
       " '00 burger',\n",
       " '00 burgers',\n",
       " '00 busy',\n",
       " '00 buy',\n",
       " '00 called',\n",
       " '00 calls',\n",
       " '00 came',\n",
       " '00 camperworld',\n",
       " '00 cancellation',\n",
       " '00 card',\n",
       " '00 carne',\n",
       " '00 carpet',\n",
       " '00 ceasar',\n",
       " '00 chance',\n",
       " '00 change',\n",
       " '00 char',\n",
       " '00 charge',\n",
       " '00 charged',\n",
       " '00 cheese',\n",
       " '00 chicken',\n",
       " '00 chips',\n",
       " '00 claim',\n",
       " '00 class',\n",
       " '00 clean',\n",
       " '00 college',\n",
       " '00 come',\n",
       " '00 comes',\n",
       " '00 commission',\n",
       " '00 consisted',\n",
       " '00 contained',\n",
       " '00 couch',\n",
       " '00 couldn',\n",
       " '00 coupled',\n",
       " '00 coupons',\n",
       " '00 cover',\n",
       " '00 crappy',\n",
       " '00 crazy',\n",
       " '00 create',\n",
       " '00 creative',\n",
       " '00 credit',\n",
       " '00 croissant',\n",
       " '00 cup',\n",
       " '00 customer',\n",
       " '00 cut',\n",
       " '00 daily',\n",
       " '00 day',\n",
       " '00 days',\n",
       " '00 decent',\n",
       " '00 definitely',\n",
       " '00 deliver',\n",
       " '00 delivery',\n",
       " '00 did',\n",
       " '00 didn',\n",
       " '00 difference',\n",
       " '00 dinner',\n",
       " '00 discount',\n",
       " '00 dishes',\n",
       " '00 disputing',\n",
       " '00 does',\n",
       " '00 dollar',\n",
       " '00 dollars',\n",
       " '00 domestic',\n",
       " '00 don',\n",
       " '00 dont',\n",
       " '00 downside',\n",
       " '00 dozen',\n",
       " '00 draft',\n",
       " '00 dress',\n",
       " '00 drink',\n",
       " '00 drinks',\n",
       " '00 drop',\n",
       " '00 dry',\n",
       " '00 early',\n",
       " '00 ended',\n",
       " '00 entrees',\n",
       " '00 exceptionally',\n",
       " '00 excited',\n",
       " '00 expect',\n",
       " '00 explain',\n",
       " '00 explained',\n",
       " '00 extra',\n",
       " '00 fairly',\n",
       " '00 fantastic',\n",
       " '00 feast',\n",
       " '00 fee',\n",
       " '00 felt',\n",
       " '00 female',\n",
       " '00 filet',\n",
       " '00 fine',\n",
       " '00 finish',\n",
       " '00 food',\n",
       " '00 forget',\n",
       " '00 free',\n",
       " '00 french',\n",
       " '00 fresh',\n",
       " '00 friday',\n",
       " '00 fried',\n",
       " '00 friend',\n",
       " '00 fries',\n",
       " '00 frustrating',\n",
       " '00 gallon',\n",
       " '00 gas',\n",
       " '00 gave',\n",
       " '00 gift',\n",
       " '00 given',\n",
       " '00 giving',\n",
       " '00 glass',\n",
       " '00 gnal',\n",
       " '00 gone',\n",
       " '00 good',\n",
       " '00 got',\n",
       " '00 great',\n",
       " '00 groupon',\n",
       " '00 guess',\n",
       " '00 guy',\n",
       " '00 guys',\n",
       " '00 hair',\n",
       " '00 half',\n",
       " '00 hand',\n",
       " '00 happened',\n",
       " '00 happy',\n",
       " '00 having',\n",
       " '00 heading',\n",
       " '00 heady',\n",
       " '00 high',\n",
       " '00 higher',\n",
       " '00 hook',\n",
       " '00 hopefully',\n",
       " '00 horrible',\n",
       " '00 hotel',\n",
       " '00 hour',\n",
       " '00 hours',\n",
       " '00 huge',\n",
       " '00 huh',\n",
       " '00 idiot',\n",
       " '00 im',\n",
       " '00 immediately',\n",
       " '00 including',\n",
       " '00 incredibly',\n",
       " '00 insane',\n",
       " '00 inside',\n",
       " '00 install',\n",
       " '00 installation',\n",
       " '00 instead',\n",
       " '00 insulted',\n",
       " '00 interesting',\n",
       " '00 isn',\n",
       " '00 itemized',\n",
       " '00 jackass',\n",
       " '00 just',\n",
       " '00 keine',\n",
       " '00 kenneled',\n",
       " '00 kid',\n",
       " '00 labor',\n",
       " '00 large',\n",
       " '00 late',\n",
       " '00 laundry',\n",
       " '00 left',\n",
       " '00 legs',\n",
       " '00 let',\n",
       " '00 like',\n",
       " '00 liked',\n",
       " '00 line',\n",
       " '00 little',\n",
       " '00 ll',\n",
       " '00 local',\n",
       " '00 locked',\n",
       " '00 log',\n",
       " '00 longer',\n",
       " '00 look',\n",
       " '00 lots',\n",
       " '00 lunch',\n",
       " '00 mac',\n",
       " '00 mad',\n",
       " '00 make',\n",
       " '00 mason',\n",
       " '00 maybe',\n",
       " '00 meal',\n",
       " '00 meatball',\n",
       " '00 mediocre',\n",
       " '00 meticulously',\n",
       " '00 midnight',\n",
       " '00 mileage',\n",
       " '00 mind',\n",
       " '00 mini',\n",
       " '00 minute',\n",
       " '00 miranda',\n",
       " '00 mis',\n",
       " '00 monday',\n",
       " '00 month',\n",
       " '00 months',\n",
       " '00 morning',\n",
       " '00 movie',\n",
       " '00 mushrooms',\n",
       " '00 music',\n",
       " '00 nasi',\n",
       " '00 new',\n",
       " '00 nice',\n",
       " '00 nights',\n",
       " '00 nike',\n",
       " '00 non',\n",
       " '00 noon',\n",
       " '00 note',\n",
       " '00 oh',\n",
       " '00 ok',\n",
       " '00 okay',\n",
       " '00 online',\n",
       " '00 opened',\n",
       " '00 oral',\n",
       " '00 order',\n",
       " '00 ordered',\n",
       " '00 original',\n",
       " '00 owed',\n",
       " '00 owner',\n",
       " '00 pabst',\n",
       " '00 package',\n",
       " '00 paid',\n",
       " '00 pancake',\n",
       " '00 parking',\n",
       " '00 partially',\n",
       " '00 parties',\n",
       " '00 patron',\n",
       " '00 people',\n",
       " '00 person',\n",
       " '00 photo',\n",
       " '00 pick',\n",
       " '00 pitcher',\n",
       " '00 place',\n",
       " '00 plain',\n",
       " '00 plate',\n",
       " '00 play',\n",
       " '00 plus',\n",
       " '00 pm',\n",
       " '00 pocket',\n",
       " '00 pointed',\n",
       " '00 pork',\n",
       " '00 pretty',\n",
       " '00 price',\n",
       " '00 prices',\n",
       " '00 prixe',\n",
       " '00 prize',\n",
       " '00 problem',\n",
       " '00 quantity',\n",
       " '00 r22',\n",
       " '00 really',\n",
       " '00 reason',\n",
       " '00 received',\n",
       " '00 recent',\n",
       " '00 recommend',\n",
       " '00 redelivered',\n",
       " '00 redone',\n",
       " '00 refill',\n",
       " '00 refund',\n",
       " '00 regular',\n",
       " '00 repair',\n",
       " '00 replace',\n",
       " '00 reservation',\n",
       " '00 resort',\n",
       " '00 respectful',\n",
       " '00 restaurant',\n",
       " '00 return',\n",
       " '00 returned',\n",
       " '00 reviews',\n",
       " '00 right',\n",
       " '00 ring',\n",
       " '00 roast',\n",
       " '00 room',\n",
       " '00 salad',\n",
       " '00 salon',\n",
       " '00 sandwich',\n",
       " '00 sat',\n",
       " '00 saturday',\n",
       " '00 say',\n",
       " '00 scheduled',\n",
       " '00 seated',\n",
       " '00 seen',\n",
       " '00 self',\n",
       " '00 sent',\n",
       " '00 september',\n",
       " '00 seriously',\n",
       " '00 serve',\n",
       " '00 service',\n",
       " '00 set',\n",
       " '00 shared',\n",
       " '00 shortening',\n",
       " '00 simple',\n",
       " '00 singles',\n",
       " '00 slice',\n",
       " '00 slices',\n",
       " '00 sliders',\n",
       " '00 small',\n",
       " '00 smoothie',\n",
       " '00 soda',\n",
       " '00 speak',\n",
       " '00 spent',\n",
       " '00 split',\n",
       " '00 spoiled',\n",
       " '00 starter',\n",
       " '00 steep',\n",
       " '00 stole',\n",
       " '00 stolen',\n",
       " '00 store',\n",
       " '00 strike',\n",
       " '00 suckered',\n",
       " '00 summer',\n",
       " '00 sunday',\n",
       " '00 super',\n",
       " '00 sure',\n",
       " '00 tab',\n",
       " '00 tables',\n",
       " '00 tacos',\n",
       " '00 tag',\n",
       " '00 taking',\n",
       " '00 tank',\n",
       " '00 taste',\n",
       " '00 tax',\n",
       " '00 teas',\n",
       " '00 terrible',\n",
       " '00 thats',\n",
       " '00 think',\n",
       " '00 thinking',\n",
       " '00 ticket',\n",
       " '00 time',\n",
       " '00 times',\n",
       " '00 tip',\n",
       " '00 tires',\n",
       " '00 today',\n",
       " '00 told',\n",
       " '00 took',\n",
       " '00 topping',\n",
       " '00 total',\n",
       " '00 tours',\n",
       " '00 treated',\n",
       " '00 tuesday',\n",
       " '00 turned',\n",
       " '00 tux',\n",
       " '00 twice',\n",
       " '00 twist',\n",
       " '00 type',\n",
       " '00 unlimited',\n",
       " '00 upgraded',\n",
       " '00 upsell',\n",
       " '00 use',\n",
       " '00 using',\n",
       " '00 usually',\n",
       " '00 ve',\n",
       " '00 veal',\n",
       " '00 verbatim',\n",
       " '00 versus',\n",
       " '00 video',\n",
       " '00 voucher',\n",
       " '00 wait',\n",
       " '00 waited',\n",
       " '00 waiting',\n",
       " '00 walked',\n",
       " '00 want',\n",
       " '00 wanted',\n",
       " '00 wasn',\n",
       " '00 waste',\n",
       " '00 way',\n",
       " '00 wednesday',\n",
       " '00 week',\n",
       " '00 weren',\n",
       " '00 wines',\n",
       " '00 work',\n",
       " '00 worth',\n",
       " '00 written',\n",
       " '00 yaks',\n",
       " '00 yellow',\n",
       " '00 ym',\n",
       " '000',\n",
       " '000 00',\n",
       " '000 000',\n",
       " '000 20',\n",
       " '000 600',\n",
       " '000 70',\n",
       " '000 75',\n",
       " '000 aaron',\n",
       " '000 afford',\n",
       " '000 air',\n",
       " '000 allowed',\n",
       " '000 best',\n",
       " '000 bike',\n",
       " '000 btu',\n",
       " '000 camera',\n",
       " '000 cash',\n",
       " '000 certain',\n",
       " '000 completely',\n",
       " '000 comps',\n",
       " '000 copies',\n",
       " '000 damages',\n",
       " '000 deductable',\n",
       " '000 different',\n",
       " '000 dollar',\n",
       " '000 dollars',\n",
       " '000 emails',\n",
       " '000 feet',\n",
       " '000 females',\n",
       " '000 furnish',\n",
       " '000 halley',\n",
       " '000 hotel',\n",
       " '000 island',\n",
       " '000 islands',\n",
       " '000 just',\n",
       " '000 landscape',\n",
       " '000 later',\n",
       " '000 license',\n",
       " '000 lights',\n",
       " '000 looking',\n",
       " '000 looks',\n",
       " '000 lot',\n",
       " '000 member',\n",
       " '000 miles',\n",
       " '000 moms',\n",
       " '000 mysteries',\n",
       " '000 new',\n",
       " '000 normal',\n",
       " '000 pay',\n",
       " '000 people',\n",
       " '000 permit',\n",
       " '000 pour',\n",
       " '000 price',\n",
       " '000 problems',\n",
       " '000 purchases',\n",
       " '000 reason',\n",
       " '000 room',\n",
       " '000 runners',\n",
       " '000 said',\n",
       " '000 security',\n",
       " '000 square',\n",
       " '000 stars',\n",
       " '000 starwood',\n",
       " '000 states',\n",
       " '000 stay',\n",
       " '000 stud',\n",
       " '000 sunday',\n",
       " '000 times',\n",
       " '000 took',\n",
       " '000 tvs',\n",
       " '000 vehicle',\n",
       " '000 visitors',\n",
       " '000 willing',\n",
       " '000 wonderful',\n",
       " '000 working',\n",
       " '000 worth',\n",
       " '000 wynn',\n",
       " '000 year',\n",
       " '000 zounds',\n",
       " '000mi',\n",
       " '000mi warranty',\n",
       " '000s',\n",
       " '000s damages',\n",
       " '002',\n",
       " '002 beers',\n",
       " '00am',\n",
       " '00am 00am',\n",
       " '00am 00pm',\n",
       " '00am best',\n",
       " '00am close',\n",
       " '00am cost',\n",
       " '00am day',\n",
       " '00am girls',\n",
       " '00am got',\n",
       " '00am huge',\n",
       " '00am line',\n",
       " '00am mon',\n",
       " '00am monday',\n",
       " '00am ok',\n",
       " '00am place',\n",
       " '00am saturday',\n",
       " '00am sharp',\n",
       " '00am sleeping',\n",
       " '00am snack',\n",
       " '00am sunday',\n",
       " '00am unbeatable',\n",
       " '00cad',\n",
       " '00cad paid',\n",
       " '00cad value',\n",
       " '00pm',\n",
       " '00pm 00pm',\n",
       " '00pm 12',\n",
       " '00pm 15',\n",
       " '00pm 20',\n",
       " '00pm 55pm',\n",
       " '00pm admittedly',\n",
       " '00pm arrived',\n",
       " '00pm asked',\n",
       " '00pm best',\n",
       " '00pm cheesecakes',\n",
       " '00pm closing',\n",
       " '00pm different',\n",
       " '00pm dining',\n",
       " '00pm dinner',\n",
       " '00pm earliest',\n",
       " '00pm friday',\n",
       " '00pm frustrating',\n",
       " '00pm good',\n",
       " '00pm happy',\n",
       " '00pm hot',\n",
       " '00pm knew',\n",
       " '00pm longer',\n",
       " '00pm lunch',\n",
       " '00pm manager',\n",
       " '00pm monday',\n",
       " '00pm naturally',\n",
       " '00pm onward',\n",
       " '00pm pay',\n",
       " '00pm ran',\n",
       " '00pm restaurant',\n",
       " '00pm ridiculously',\n",
       " '00pm safe',\n",
       " '00pm said',\n",
       " '00pm saturday',\n",
       " '00pm stopping',\n",
       " '00pm sunday',\n",
       " '00pm surprise',\n",
       " '00pm sushi',\n",
       " '00pm thought',\n",
       " '00pm tickets',\n",
       " '00pm told',\n",
       " '00pm totally',\n",
       " '00pm turned',\n",
       " '00pm weren',\n",
       " '00pm win',\n",
       " '00small',\n",
       " '00small price',\n",
       " '01',\n",
       " '01 01',\n",
       " '01 16',\n",
       " '01 18',\n",
       " '01 asked',\n",
       " '01 door',\n",
       " '01 finished',\n",
       " '01 included',\n",
       " '01 mimosa',\n",
       " '010',\n",
       " '010 38',\n",
       " '01pm',\n",
       " '01pm lady',\n",
       " '02',\n",
       " '02 audi',\n",
       " '02 dishes',\n",
       " '02 fault',\n",
       " '02 got',\n",
       " '02 local',\n",
       " '02 value',\n",
       " '02 week',\n",
       " '02 worth',\n",
       " '0200',\n",
       " '0200 able',\n",
       " '025',\n",
       " '025 parts',\n",
       " '03',\n",
       " '03 16',\n",
       " '03 27',\n",
       " '03 bought',\n",
       " '03 doing',\n",
       " '03 gallon',\n",
       " '03 gave',\n",
       " '03 know',\n",
       " '03 pissed',\n",
       " '03 st',\n",
       " '035770',\n",
       " '035770 maricopa',\n",
       " '03am',\n",
       " '03am tonite',\n",
       " '04',\n",
       " '04 04',\n",
       " '04 12',\n",
       " '04 14',\n",
       " '04 16',\n",
       " '04 17',\n",
       " '04 22',\n",
       " '04 29',\n",
       " '04 passat',\n",
       " '04 waitress',\n",
       " '04 went',\n",
       " '04th',\n",
       " '04th states',\n",
       " '05',\n",
       " '05 09',\n",
       " '05 15',\n",
       " '05 17',\n",
       " '05 2018',\n",
       " '05 22',\n",
       " '05 30',\n",
       " '05 arrive',\n",
       " '05 charged',\n",
       " '05 credit',\n",
       " '05 days',\n",
       " '05 food',\n",
       " '05 game',\n",
       " '05 grand',\n",
       " '05 magnum',\n",
       " '05 met',\n",
       " '05 quoted',\n",
       " '05 scion',\n",
       " '05 sherwin',\n",
       " '05 stil',\n",
       " '05 tasted',\n",
       " '05 turned',\n",
       " '05am',\n",
       " '05am set',\n",
       " '05pm',\n",
       " '05pm cars',\n",
       " '05pm hot',\n",
       " '06',\n",
       " '06 04',\n",
       " '06 125',\n",
       " '06 19',\n",
       " '06 day',\n",
       " '06 line',\n",
       " '06 understandably',\n",
       " '07',\n",
       " '07 10',\n",
       " '07 15',\n",
       " '07 27',\n",
       " '07 called',\n",
       " '07 impala',\n",
       " '07 store',\n",
       " '0775',\n",
       " '0775 transaction',\n",
       " '07am',\n",
       " '07am seated',\n",
       " '08',\n",
       " '08 14',\n",
       " '08 2016',\n",
       " '08 brisket',\n",
       " '08 dish',\n",
       " '08 food',\n",
       " '08 half',\n",
       " '08 impressed',\n",
       " '08 loved',\n",
       " '08 miles',\n",
       " '08 pleae',\n",
       " '08 ps2',\n",
       " '08 reviewer',\n",
       " '08 sep',\n",
       " '08 tech',\n",
       " '08am',\n",
       " '08am year',\n",
       " '09',\n",
       " '09 02',\n",
       " '09 10',\n",
       " '09 18',\n",
       " '09 22',\n",
       " '09 guy',\n",
       " '09 pm',\n",
       " '09 visit',\n",
       " '09 visited',\n",
       " '09 waitress',\n",
       " '09pm',\n",
       " '09pm cost',\n",
       " '0f',\n",
       " '0f things',\n",
       " '0oz',\n",
       " '0oz pour',\n",
       " '0unces',\n",
       " '0unces actual',\n",
       " '10',\n",
       " '10 00',\n",
       " '10 000',\n",
       " '10 00am',\n",
       " '10 00pm',\n",
       " '10 04',\n",
       " '10 05',\n",
       " '10 05am',\n",
       " '10 07',\n",
       " '10 08',\n",
       " '10 09',\n",
       " '10 10',\n",
       " '10 1030',\n",
       " '10 11',\n",
       " '10 11pm',\n",
       " '10 12',\n",
       " '10 120lbs',\n",
       " '10 13',\n",
       " '10 14',\n",
       " '10 15',\n",
       " '10 15ish',\n",
       " '10 15min',\n",
       " '10 15mins',\n",
       " '10 15p',\n",
       " '10 16',\n",
       " '10 17am',\n",
       " '10 18',\n",
       " '10 20',\n",
       " '10 2006',\n",
       " '10 2011',\n",
       " '10 2014',\n",
       " '10 2016',\n",
       " '10 2017',\n",
       " '10 20am',\n",
       " '10 21',\n",
       " '10 24',\n",
       " '10 25',\n",
       " '10 26',\n",
       " '10 27',\n",
       " '10 28',\n",
       " '10 29',\n",
       " '10 2pm',\n",
       " '10 30',\n",
       " '10 30a',\n",
       " '10 30am',\n",
       " '10 30ish',\n",
       " '10 30pm',\n",
       " '10 31',\n",
       " '10 32',\n",
       " '10 33',\n",
       " '10 35',\n",
       " '10 35p',\n",
       " '10 38',\n",
       " '10 3inch',\n",
       " '10 3pm',\n",
       " '10 40',\n",
       " '10 40am',\n",
       " '10 41',\n",
       " '10 45',\n",
       " '10 45am',\n",
       " '10 45pm',\n",
       " '10 47',\n",
       " '10 48',\n",
       " '10 50',\n",
       " '10 500',\n",
       " '10 50p',\n",
       " '10 55',\n",
       " '10 5oz',\n",
       " '10 5pm',\n",
       " '10 60',\n",
       " '10 68',\n",
       " '10 70',\n",
       " '10 700',\n",
       " '10 75',\n",
       " '10 80',\n",
       " '10 81',\n",
       " '10 82',\n",
       " '10 85',\n",
       " '10 89',\n",
       " '10 93',\n",
       " '10 95',\n",
       " '10 99',\n",
       " '10 account',\n",
       " '10 acknowledgement',\n",
       " '10 acrylics',\n",
       " '10 actually',\n",
       " '10 add',\n",
       " '10 added',\n",
       " '10 additionally',\n",
       " '10 advance',\n",
       " '10 airport',\n",
       " '10 airy',\n",
       " '10 alambre',\n",
       " '10 alex',\n",
       " '10 amazing',\n",
       " '10 ambience',\n",
       " '10 angered',\n",
       " '10 apparently',\n",
       " '10 applied',\n",
       " '10 appointment',\n",
       " '10 appropriate',\n",
       " '10 arrived',\n",
       " '10 asked',\n",
       " '10 asking',\n",
       " '10 assured',\n",
       " '10 ate',\n",
       " '10 atmosphere',\n",
       " '10 austin',\n",
       " '10 available',\n",
       " '10 average',\n",
       " '10 away',\n",
       " '10 ayce',\n",
       " '10 bacchanal',\n",
       " '10 bad',\n",
       " '10 bag',\n",
       " '10 bags',\n",
       " '10 bartender',\n",
       " '10 based',\n",
       " '10 basic',\n",
       " '10 bathrooms',\n",
       " '10 bay',\n",
       " '10 beat',\n",
       " '10 beatles',\n",
       " '10 becuase',\n",
       " '10 beef',\n",
       " '10 beer',\n",
       " '10 beers',\n",
       " '10 began',\n",
       " '10 best',\n",
       " '10 better',\n",
       " '10 biodiesel',\n",
       " '10 birthdays',\n",
       " '10 bit',\n",
       " '10 bitch',\n",
       " '10 bite',\n",
       " '10 blvd',\n",
       " '10 bmws',\n",
       " '10 boiled',\n",
       " '10 book',\n",
       " '10 bottle',\n",
       " '10 bottles',\n",
       " '10 bottomless',\n",
       " '10 bought',\n",
       " '10 bowl',\n",
       " '10 box',\n",
       " '10 boxes',\n",
       " '10 braced',\n",
       " '10 brain',\n",
       " '10 brands',\n",
       " '10 breakfast',\n",
       " '10 broken',\n",
       " '10 brought',\n",
       " '10 brunch',\n",
       " '10 brussels',\n",
       " '10 bucks',\n",
       " '10 buddy',\n",
       " '10 buffet',\n",
       " '10 burger',\n",
       " '10 burning',\n",
       " '10 burrito',\n",
       " '10 burritos',\n",
       " '10 business',\n",
       " '10 busy',\n",
       " '10 cake',\n",
       " '10 cakes',\n",
       " '10 called',\n",
       " '10 calls',\n",
       " '10 came',\n",
       " '10 card',\n",
       " '10 cars',\n",
       " '10 cash',\n",
       " '10 ceaser',\n",
       " '10 cent',\n",
       " '10 cents',\n",
       " '10 chairs',\n",
       " '10 chances',\n",
       " '10 change',\n",
       " '10 channels',\n",
       " '10 charge',\n",
       " '10 cheaper',\n",
       " '10 check',\n",
       " '10 cheesy',\n",
       " '10 chicken',\n",
       " '10 child',\n",
       " '10 children',\n",
       " '10 chinese',\n",
       " '10 chips',\n",
       " '10 choices',\n",
       " '10 cirque',\n",
       " '10 classes',\n",
       " '10 cleanliness',\n",
       " '10 clock',\n",
       " '10 closures',\n",
       " '10 coats',\n",
       " '10 color',\n",
       " '10 combo',\n",
       " '10 come',\n",
       " '10 comes',\n",
       " '10 coming',\n",
       " '10 compared',\n",
       " '10 complain',\n",
       " '10 complaint',\n",
       " '10 conservative',\n",
       " '10 considering',\n",
       " '10 continued',\n",
       " '10 cooler',\n",
       " '10 correct',\n",
       " '10 couple',\n",
       " '10 coupon',\n",
       " '10 course',\n",
       " '10 courses',\n",
       " '10 cover',\n",
       " '10 craving',\n",
       " '10 credit',\n",
       " '10 creeps',\n",
       " '10 crowded',\n",
       " '10 cup',\n",
       " '10 curious',\n",
       " '10 customer',\n",
       " '10 customers',\n",
       " '10 day',\n",
       " '10 days',\n",
       " '10 deal',\n",
       " '10 debit',\n",
       " '10 decide',\n",
       " '10 decor',\n",
       " '10 deep',\n",
       " '10 definitely',\n",
       " '10 degrees',\n",
       " '10 delicious',\n",
       " '10 deliver',\n",
       " '10 delivery',\n",
       " '10 depending',\n",
       " '10 deserves',\n",
       " '10 despite',\n",
       " '10 dessert',\n",
       " '10 did',\n",
       " '10 didn',\n",
       " '10 different',\n",
       " '10 dine',\n",
       " '10 dinner',\n",
       " '10 disappointed',\n",
       " '10 discount',\n",
       " '10 disgusting',\n",
       " '10 dish',\n",
       " '10 dishes',\n",
       " '10 diverse',\n",
       " '10 doesn',\n",
       " '10 dog',\n",
       " '10 dogs',\n",
       " '10 dollar',\n",
       " '10 dollars',\n",
       " '10 don',\n",
       " '10 door',\n",
       " '10 doors',\n",
       " '10 doubt',\n",
       " '10 dozen',\n",
       " '10 dressing',\n",
       " '10 drink',\n",
       " '10 drinking',\n",
       " '10 drinks',\n",
       " '10 easily',\n",
       " '10 eggs',\n",
       " '10 emails',\n",
       " '10 employee',\n",
       " '10 employees',\n",
       " '10 ended',\n",
       " '10 enjoyed',\n",
       " '10 entire',\n",
       " '10 environment',\n",
       " '10 equivalent',\n",
       " '10 escorted',\n",
       " '10 evening',\n",
       " '10 exit',\n",
       " '10 expecting',\n",
       " '10 exterior',\n",
       " '10 extra',\n",
       " '10 extremely',\n",
       " '10 face',\n",
       " '10 fair',\n",
       " '10 favorite',\n",
       " '10 fee',\n",
       " '10 feel',\n",
       " '10 feet',\n",
       " '10 figure',\n",
       " '10 figured',\n",
       " '10 filet',\n",
       " ...]"
      ]
     },
     "execution_count": 37,
     "metadata": {},
     "output_type": "execute_result"
    }
   ],
   "source": [
    "feature_names"
   ]
  },
  {
   "cell_type": "code",
   "execution_count": 38,
   "metadata": {},
   "outputs": [
    {
     "data": {
      "text/plain": [
       "array([ 1.94270904,  0.11142023,  0.04543641, ..., -0.01595429,\n",
       "       -0.01595429, -0.01595429])"
      ]
     },
     "execution_count": 38,
     "metadata": {},
     "output_type": "execute_result"
    }
   ],
   "source": [
    "coef = classifier.coef_\n",
    "coef[0]"
   ]
  },
  {
   "cell_type": "code",
   "execution_count": 39,
   "metadata": {},
   "outputs": [],
   "source": [
    "amazing = feature_names.index('amazing')"
   ]
  },
  {
   "cell_type": "code",
   "execution_count": 40,
   "metadata": {},
   "outputs": [],
   "source": [
    "meh = feature_names.index('meh')"
   ]
  },
  {
   "cell_type": "code",
   "execution_count": 41,
   "metadata": {},
   "outputs": [],
   "source": [
    "good = feature_names.index('good')"
   ]
  },
  {
   "cell_type": "code",
   "execution_count": 42,
   "metadata": {},
   "outputs": [],
   "source": [
    "rude = feature_names.index('rude')"
   ]
  },
  {
   "cell_type": "code",
   "execution_count": 43,
   "metadata": {},
   "outputs": [],
   "source": [
    "ok = feature_names.index('ok')"
   ]
  },
  {
   "cell_type": "code",
   "execution_count": 44,
   "metadata": {},
   "outputs": [
    {
     "name": "stdout",
     "output_type": "stream",
     "text": [
      "-3.982005827859427\n",
      "-3.8079804508163693\n",
      "-2.2501207814860904\n",
      "-0.807893004820822\n",
      "8.951251455004504\n"
     ]
    }
   ],
   "source": [
    "x_1 = []\n",
    "y_1 = []\n",
    "for i in range(5):\n",
    "    x_1.append(i+1)\n",
    "    y_1.append(coef[i][amazing])\n",
    "    print(coef[i][amazing])\n",
    "#plt.plot(x_1, y_1)"
   ]
  },
  {
   "cell_type": "code",
   "execution_count": 45,
   "metadata": {},
   "outputs": [
    {
     "name": "stdout",
     "output_type": "stream",
     "text": [
      "-0.6847935363483092\n",
      "2.267456579770298\n",
      "1.1185369668762912\n",
      "-1.3358202653895839\n",
      "-1.4379312600162724\n"
     ]
    }
   ],
   "source": [
    "x_2 = []\n",
    "y_2 = []\n",
    "for i in range(5):\n",
    "    x_2.append(i+1)\n",
    "    y_2.append(coef[i][meh])\n",
    "    print(coef[i][meh])\n",
    "#plot(x_2, y_2);\n",
    "#title('Importance of Meh');\n",
    "#xlabel('Class');\n",
    "#ylabel('Importance');\n",
    "#show()"
   ]
  },
  {
   "cell_type": "code",
   "execution_count": 46,
   "metadata": {},
   "outputs": [
    {
     "name": "stdout",
     "output_type": "stream",
     "text": [
      "-6.433946719871882\n",
      "-0.7180376089922003\n",
      "4.468029092457457\n",
      "4.060752669728734\n",
      "-3.0755738643675277\n"
     ]
    }
   ],
   "source": [
    "x_3 = []\n",
    "y_3 = []\n",
    "for i in range(5):\n",
    "    x_3.append(i+1)\n",
    "    y_3.append(coef[i][good])\n",
    "    print(coef[i][good])\n",
    "#plt.plot(x_3, y_3)"
   ]
  },
  {
   "cell_type": "code",
   "execution_count": 47,
   "metadata": {},
   "outputs": [
    {
     "name": "stdout",
     "output_type": "stream",
     "text": [
      "4.793586723893087\n",
      "0.04889430211975244\n",
      "-1.0798128841722745\n",
      "-1.8610447445685263\n",
      "-3.4883477438079398\n"
     ]
    }
   ],
   "source": [
    "x_4 = []\n",
    "y_4 = []\n",
    "for i in range(5):\n",
    "    x_4.append(i+1)\n",
    "    y_4.append(coef[i][rude])\n",
    "    print(coef[i][rude])\n",
    "#plt.plot(x_4, y_4)"
   ]
  },
  {
   "cell_type": "markdown",
   "metadata": {},
   "source": [
    "### Tracing Word Importance over Star Classes"
   ]
  },
  {
   "cell_type": "code",
   "execution_count": 48,
   "metadata": {},
   "outputs": [
    {
     "name": "stdout",
     "output_type": "stream",
     "text": [
      "-1.4045053990327896\n",
      "3.458280272245838\n",
      "4.120748451145623\n",
      "-2.991244260552694\n",
      "-3.861407622436547\n"
     ]
    },
    {
     "data": {
      "text/plain": [
       "<matplotlib.legend.Legend at 0x116f00e10>"
      ]
     },
     "execution_count": 48,
     "metadata": {},
     "output_type": "execute_result"
    },
    {
     "data": {
      "image/png": "[encoded data removed]",
      "text/plain": [
       "<Figure size 432x288 with 1 Axes>"
      ]
     },
     "metadata": {
      "needs_background": "light"
     },
     "output_type": "display_data"
    }
   ],
   "source": [
    "x_5 = []\n",
    "y_5 = []\n",
    "for i in range(5):\n",
    "    x_5.append(i+1)\n",
    "    y_5.append(coef[i][ok])\n",
    "    print(coef[i][ok])\n",
    "plot(x_1, y_1)\n",
    "plot(x_2, y_2)\n",
    "plot(x_3, y_3)\n",
    "plot(x_4, y_4)\n",
    "plot(x_5, y_5)\n",
    "title(\"Importance of Words By Class\");\n",
    "ylabel(\"Importance\");\n",
    "xlabel(\"Class\");\n",
    "legend(['amazing','meh','good','rude','ok'])"
   ]
  },
  {
   "cell_type": "code",
   "execution_count": null,
   "metadata": {},
   "outputs": [],
   "source": []
  },
  {
   "cell_type": "code",
   "execution_count": null,
   "metadata": {},
   "outputs": [],
   "source": []
  },
  {
   "cell_type": "code",
   "execution_count": null,
   "metadata": {},
   "outputs": [],
   "source": []
  }
 ],
 "metadata": {
  "kernelspec": {
   "display_name": "Python 3",
   "language": "python",
   "name": "python3"
  },
  "language_info": {
   "codemirror_mode": {
    "name": "ipython",
    "version": 3
   },
   "file_extension": ".py",
   "mimetype": "text/x-python",
   "name": "python",
   "nbconvert_exporter": "python",
   "pygments_lexer": "ipython3",
   "version": "3.7.4"
  }
 },
 "nbformat": 4,
 "nbformat_minor": 2
}
