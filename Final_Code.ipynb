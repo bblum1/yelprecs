{
 "cells": [
  {
   "cell_type": "markdown",
   "metadata": {},
   "source": [
    "# Final Project Code"
   ]
  },
  {
   "cell_type": "markdown",
   "metadata": {},
   "source": [
    "### Bailey Blum, Molly Giglia, Horacio Lopez & Ale Lopez"
   ]
  },
  {
   "cell_type": "markdown",
   "metadata": {},
   "source": [
    "# DONT RUN THIS --------------"
   ]
  },
  {
   "cell_type": "code",
   "execution_count": 1,
   "metadata": {},
   "outputs": [],
   "source": [
    "import json\n",
    "import pandas as pd\n",
    "    \n",
    "\n",
    "with open('yelp_dataset/review.json') as json_file:      \n",
    "    data = json_file.readlines()\n",
    "    # this line below may take at least 8-10 minutes of processing for 4-5 million rows. It converts all strings in list to actual json objects. \n",
    "    data = list(map(json.loads, data)) "
   ]
  },
  {
   "cell_type": "code",
   "execution_count": 2,
   "metadata": {},
   "outputs": [],
   "source": [
    "texts = [d['text'] for d in data]\n",
    "stars = [d['stars'] for d in data]"
   ]
  },
  {
   "cell_type": "code",
   "execution_count": null,
   "metadata": {},
   "outputs": [],
   "source": []
  },
  {
   "cell_type": "code",
   "execution_count": 3,
   "metadata": {},
   "outputs": [],
   "source": [
    "from collections import Counter\n",
    "\n",
    "freqs = Counter(stars)\n",
    "\n",
    "# the least common class is the maximum number we want for all classes\n",
    "max_allowable = 5000\n",
    "#max_allowable = freqs.most_common()[-1][1]\n",
    "num_added = {clss: 0 for clss in freqs.keys()}\n",
    "new_stars = []\n",
    "new_texts = []\n",
    "total = 0\n",
    "counter = 0\n",
    "\n",
    "for i, y in enumerate(stars):\n",
    "    total += len(texts[i])\n",
    "    counter += 1\n",
    "\n",
    "avg = total / counter\n",
    "\n",
    " \n",
    "def balance_classes(texts, stars):\n",
    "\n",
    "    freqs = Counter(stars)\n",
    "\n",
    "    # the least common class is the maximum number we want for all classes\n",
    "    max_allowable = 5000\n",
    "    #max_allowable = freqs.most_common()[-1][1]\n",
    "    num_added = {clss: 0 for clss in freqs.keys()}\n",
    "    new_stars = []\n",
    "    new_texts = []\n",
    "    for i, y in enumerate(stars):\n",
    "        if len(texts[i]) < avg*1.5 and len(texts[i]) > avg:\n",
    "            if num_added[y] < max_allowable:\n",
    "                new_stars.append(y)\n",
    "                new_texts.append(texts[i])\n",
    "                num_added[y] += 1\n",
    "    return new_texts, new_stars"
   ]
  },
  {
   "cell_type": "code",
   "execution_count": null,
   "metadata": {},
   "outputs": [],
   "source": []
  },
  {
   "cell_type": "code",
   "execution_count": 4,
   "metadata": {},
   "outputs": [
    {
     "name": "stdout",
     "output_type": "stream",
     "text": [
      "Counter({5.0: 5000, 4.0: 5000, 3.0: 5000, 1.0: 5000, 2.0: 5000})\n"
     ]
    }
   ],
   "source": [
    "#print(Counter(stars))\n",
    "balanced_x, balanced_y = balance_classes(texts, stars)\n",
    "print(Counter(balanced_y))\n",
    "#print(balanced_y[:10])"
   ]
  },
  {
   "cell_type": "code",
   "execution_count": 5,
   "metadata": {},
   "outputs": [],
   "source": [
    "import os\n",
    "os.remove(\"texts.txt\")\n",
    "os.remove(\"stars.txt\")\n",
    "f = open(\"texts.txt\", \"w\")\n",
    "f2 = open(\"stars.txt\", \"w\")\n",
    "for item in balanced_x:\n",
    "    f.write(item + \"Gigliablurb\")\n",
    "for item in balanced_y:\n",
    "    f2.write(str(int(item)) + '\\n')\n",
    "f.close()\n",
    "f2.close()"
   ]
  },
  {
   "cell_type": "markdown",
   "metadata": {},
   "source": [
    "# RUN FROM HERE DOWN -------------------"
   ]
  },
  {
   "cell_type": "code",
   "execution_count": 6,
   "metadata": {},
   "outputs": [
    {
     "name": "stdout",
     "output_type": "stream",
     "text": [
      "25000\n"
     ]
    }
   ],
   "source": [
    "import json\n",
    "import pandas as pd\n",
    "from collections import Counter\n",
    "\n",
    "f = open(\"texts.txt\", \"r\")\n",
    "f2 = open(\"stars.txt\", \"r\")\n",
    "\n",
    "balanced_x = []\n",
    "balanced_y = []\n",
    "listOfLines = f.read().split('Gigliablurb')\n",
    "for item in listOfLines:\n",
    "    balanced_x.append(item)\n",
    "for item in f2.readlines():\n",
    "    balanced_y.append(item)\n",
    "    \n",
    "f.close()\n",
    "f2.close()\n",
    "\n",
    "balanced_x = balanced_x[:-1]\n",
    "print(len(balanced_x))"
   ]
  },
  {
   "cell_type": "code",
   "execution_count": 7,
   "metadata": {},
   "outputs": [
    {
     "name": "stdout",
     "output_type": "stream",
     "text": [
      "0:00:12.199060\n"
     ]
    }
   ],
   "source": [
    "from sklearn.feature_extraction.text import TfidfVectorizer\n",
    "import datetime\n",
    " \n",
    "# This vectorizer breaks text into single words and bi-grams\n",
    "# and then calculates the TF-IDF representation\n",
    "vectorizer = TfidfVectorizer(ngram_range=(1,2))\n",
    "t1 = datetime.datetime.now()\n",
    " \n",
    "# the 'fit' builds up the vocabulary from all the reviews\n",
    "# while the 'transform' step turns each indivdual text into\n",
    "# a matrix of numbers.\n",
    "vectors = vectorizer.fit_transform(balanced_x)\n",
    "print(datetime.datetime.now() - t1)"
   ]
  },
  {
   "cell_type": "code",
   "execution_count": 8,
   "metadata": {},
   "outputs": [],
   "source": [
    "from sklearn.model_selection import train_test_split\n",
    "X_train, X_test, y_train, y_test = train_test_split(vectors, balanced_y, test_size=0.20, random_state=42)"
   ]
  },
  {
   "cell_type": "code",
   "execution_count": null,
   "metadata": {},
   "outputs": [],
   "source": []
  },
  {
   "cell_type": "code",
   "execution_count": 9,
   "metadata": {},
   "outputs": [
    {
     "name": "stdout",
     "output_type": "stream",
     "text": [
      "0:00:04.874257\n"
     ]
    }
   ],
   "source": [
    "## from sklearn.svm import LinearSVC\n",
    "from sklearn.metrics import classification_report\n",
    "from sklearn.metrics import confusion_matrix\n",
    "from sklearn.metrics import accuracy_score\n",
    "from sklearn.naive_bayes import GaussianNB\n",
    "from sklearn.naive_bayes import MultinomialNB\n",
    "from sklearn.naive_bayes import ComplementNB\n",
    "from sklearn.ensemble import RandomForestClassifier\n",
    "from sklearn.ensemble import AdaBoostClassifier\n",
    "from sklearn.svm import LinearSVC\n",
    "from sklearn import tree\n",
    "\n",
    "# initialise the Naive-Bayes classifier\n",
    "#classifier = MultinomialNB()\n",
    "#classifier = ComplementNB()\n",
    "classifier = LinearSVC()\n",
    "#classifier = tree.DecisionTreeClassifier(max_depth=20)\n",
    "#classifier = RandomForestClassifier()\n",
    "#classifier = AdaBoostClassifier() #takes 7.5 mins\n",
    "\n",
    "#Run it\n",
    "t1 = datetime.datetime.now()\n",
    "#X_train = X_train.toarray()\n",
    "classifier.fit(X_train, y_train)\n",
    "print(datetime.datetime.now() - t1)"
   ]
  },
  {
   "cell_type": "code",
   "execution_count": 10,
   "metadata": {
    "scrolled": true
   },
   "outputs": [
    {
     "name": "stdout",
     "output_type": "stream",
     "text": [
      "['5\\n', '4\\n', '2\\n', '4\\n', '5\\n', '1\\n', '2\\n', '4\\n', '4\\n', '4\\n']\n",
      "['5\\n', '2\\n', '1\\n', '4\\n', '4\\n', '1\\n', '1\\n', '4\\n', '2\\n', '5\\n']\n"
     ]
    }
   ],
   "source": [
    "preds = classifier.predict(X_test)\n",
    "print(list(preds[:10]))\n",
    "print(y_test[:10])"
   ]
  },
  {
   "cell_type": "code",
   "execution_count": 11,
   "metadata": {},
   "outputs": [
    {
     "name": "stdout",
     "output_type": "stream",
     "text": [
      "0.5882\n"
     ]
    }
   ],
   "source": [
    "from sklearn.metrics import accuracy_score\n",
    "print(accuracy_score(y_test, preds))\n"
   ]
  },
  {
   "cell_type": "code",
   "execution_count": 12,
   "metadata": {},
   "outputs": [
    {
     "name": "stdout",
     "output_type": "stream",
     "text": [
      "              precision    recall  f1-score   support\n",
      "\n",
      "          1\n",
      "       0.69      0.78      0.73       976\n",
      "          2\n",
      "       0.51      0.46      0.49      1003\n",
      "          3\n",
      "       0.49      0.44      0.46       996\n",
      "          4\n",
      "       0.51      0.51      0.51      1008\n",
      "          5\n",
      "       0.69      0.75      0.72      1017\n",
      "\n",
      "    accuracy                           0.59      5000\n",
      "   macro avg       0.58      0.59      0.58      5000\n",
      "weighted avg       0.58      0.59      0.58      5000\n",
      "\n"
     ]
    }
   ],
   "source": [
    "from sklearn.metrics import classification_report\n",
    "print(classification_report(y_test, preds))"
   ]
  },
  {
   "cell_type": "code",
   "execution_count": 13,
   "metadata": {},
   "outputs": [
    {
     "name": "stdout",
     "output_type": "stream",
     "text": [
      "[[765 167  19   6  19]\n",
      " [259 464 217  47  16]\n",
      " [ 60 217 437 234  48]\n",
      " [ 14  40 186 517 251]\n",
      " [ 11  14  26 208 758]]\n"
     ]
    }
   ],
   "source": [
    "from sklearn.metrics import confusion_matrix\n",
    "print(confusion_matrix(y_test, preds))"
   ]
  },
  {
   "cell_type": "code",
   "execution_count": null,
   "metadata": {},
   "outputs": [],
   "source": []
  },
  {
   "cell_type": "code",
   "execution_count": null,
   "metadata": {},
   "outputs": [],
   "source": []
  },
  {
   "cell_type": "code",
   "execution_count": null,
   "metadata": {},
   "outputs": [],
   "source": []
  }
 ],
 "metadata": {
  "kernelspec": {
   "display_name": "Python 3",
   "language": "python",
   "name": "python3"
  },
  "language_info": {
   "codemirror_mode": {
    "name": "ipython",
    "version": 3
   },
   "file_extension": ".py",
   "mimetype": "text/x-python",
   "name": "python",
   "nbconvert_exporter": "python",
   "pygments_lexer": "ipython3",
   "version": "3.7.4"
  }
 },
 "nbformat": 4,
 "nbformat_minor": 2
}
