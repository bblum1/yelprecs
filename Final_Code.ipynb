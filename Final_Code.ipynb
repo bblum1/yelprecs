{
 "cells": [
  {
   "cell_type": "markdown",
   "metadata": {},
   "source": [
    "# Final Project Code"
   ]
  },
  {
   "cell_type": "markdown",
   "metadata": {},
   "source": [
    "### Bailey Blum, Molly Giglia, Horacio Lopez & Ale Lopez"
   ]
  },
  {
   "cell_type": "markdown",
   "metadata": {},
   "source": [
    "# DONT RUN THIS --------------"
   ]
  },
  {
   "cell_type": "code",
   "execution_count": 1,
   "metadata": {},
   "outputs": [],
   "source": [
    "import json\n",
    "import bigjson\n",
    "import ijson\n",
    "import pandas as pd\n",
    "    \n",
    "\n",
    "with open('yelp_dataset/review.json') as json_file:      \n",
    "    data = json_file.readlines()\n",
    "    # this line below may take at least 8-10 minutes of processing for 4-5 million rows. It converts all strings in list to actual json objects. \n",
    "    data = list(map(json.loads, data)) "
   ]
  },
  {
   "cell_type": "code",
   "execution_count": 2,
   "metadata": {},
   "outputs": [],
   "source": [
    "texts = [d['text'] for d in data]\n",
    "stars = [d['stars'] for d in data]"
   ]
  },
  {
   "cell_type": "code",
   "execution_count": null,
   "metadata": {},
   "outputs": [],
   "source": []
  },
  {
   "cell_type": "code",
   "execution_count": 3,
   "metadata": {},
   "outputs": [],
   "source": [
    "from collections import Counter\n",
    " \n",
    "def balance_classes(texts, stars):\n",
    "\n",
    "    freqs = Counter(stars)\n",
    "\n",
    "    # the least common class is the maximum number we want for all classes\n",
    "    max_allowable = 25000\n",
    "    #max_allowable = freqs.most_common()[-1][1]\n",
    "    num_added = {clss: 0 for clss in freqs.keys()}\n",
    "    new_stars = []\n",
    "    new_texts = []\n",
    "    for i, y in enumerate(stars):\n",
    "        if num_added[y] < max_allowable:\n",
    "            new_stars.append(y)\n",
    "            new_texts.append(texts[i])\n",
    "            num_added[y] += 1\n",
    "    return new_texts, new_stars"
   ]
  },
  {
   "cell_type": "code",
   "execution_count": 4,
   "metadata": {},
   "outputs": [
    {
     "name": "stdout",
     "output_type": "stream",
     "text": [
      "Counter({1.0: 25000, 5.0: 25000, 4.0: 25000, 3.0: 25000, 2.0: 25000})\n"
     ]
    }
   ],
   "source": [
    "#print(Counter(stars))\n",
    "balanced_x, balanced_y = balance_classes(texts, stars)\n",
    "print(Counter(balanced_y))\n",
    "#print(balanced_y[:10])"
   ]
  },
  {
   "cell_type": "code",
   "execution_count": 5,
   "metadata": {},
   "outputs": [],
   "source": [
    "import os\n",
    "os.remove(\"texts.txt\")\n",
    "os.remove(\"stars.txt\")\n",
    "f = open(\"texts.txt\", \"w\")\n",
    "f2 = open(\"stars.txt\", \"w\")\n",
    "for item in balanced_x:\n",
    "    f.write(item + \"Gigliablurb\")\n",
    "for item in balanced_y:\n",
    "    f2.write(str(int(item)) + '\\n')\n",
    "f.close()\n",
    "f2.close()"
   ]
  },
  {
   "cell_type": "markdown",
   "metadata": {},
   "source": [
    "# RUN FROM HERE DOWN -------------------"
   ]
  },
  {
   "cell_type": "code",
   "execution_count": 1,
   "metadata": {},
   "outputs": [
    {
     "name": "stdout",
     "output_type": "stream",
     "text": [
      "125000\n"
     ]
    }
   ],
   "source": [
    "import json\n",
    "import bigjson\n",
    "import ijson\n",
    "import pandas as pd\n",
    "from collections import Counter\n",
    "\n",
    "f = open(\"texts.txt\", \"r\")\n",
    "f2 = open(\"stars.txt\", \"r\")\n",
    "\n",
    "balanced_x = []\n",
    "balanced_y = []\n",
    "listOfLines = f.read().split('Gigliablurb')\n",
    "for item in listOfLines:\n",
    "    balanced_x.append(item)\n",
    "for item in f2.readlines():\n",
    "    balanced_y.append(item)\n",
    "    \n",
    "f.close()\n",
    "f2.close()\n",
    "\n",
    "balanced_x = balanced_x[:-1]\n",
    "print(len(balanced_x))"
   ]
  },
  {
   "cell_type": "code",
   "execution_count": 2,
   "metadata": {},
   "outputs": [
    {
     "name": "stdout",
     "output_type": "stream",
     "text": [
      "0:00:51.903597\n"
     ]
    }
   ],
   "source": [
    "from sklearn.feature_extraction.text import TfidfVectorizer\n",
    "import datetime\n",
    " \n",
    "# This vectorizer breaks text into single words and bi-grams\n",
    "# and then calculates the TF-IDF representation\n",
    "vectorizer = TfidfVectorizer(ngram_range=(1,2))\n",
    "t1 = datetime.datetime.now()\n",
    " \n",
    "# the 'fit' builds up the vocabulary from all the reviews\n",
    "# while the 'transform' step turns each indivdual text into\n",
    "# a matrix of numbers.\n",
    "vectors = vectorizer.fit_transform(balanced_x)\n",
    "print(datetime.datetime.now() - t1)"
   ]
  },
  {
   "cell_type": "code",
   "execution_count": 3,
   "metadata": {},
   "outputs": [],
   "source": [
    "from sklearn.model_selection import train_test_split\n",
    "X_train, X_test, y_train, y_test = train_test_split(vectors, balanced_y, test_size=0.20, random_state=42)"
   ]
  },
  {
   "cell_type": "code",
   "execution_count": null,
   "metadata": {},
   "outputs": [],
   "source": []
  },
  {
   "cell_type": "code",
   "execution_count": 4,
   "metadata": {},
   "outputs": [
    {
     "name": "stdout",
     "output_type": "stream",
     "text": [
      "0:00:25.530381\n"
     ]
    }
   ],
   "source": [
    "from sklearn.svm import LinearSVC\n",
    "from sklearn.metrics import classification_report\n",
    "from sklearn.metrics import confusion_matrix\n",
    "from sklearn.metrics import accuracy_score\n",
    "from sklearn.naive_bayes import GaussianNB\n",
    "from sklearn.naive_bayes import MultinomialNB\n",
    "from sklearn.naive_bayes import ComplementNB\n",
    "from sklearn import tree\n",
    "\n",
    "# initialise the Naive-Bayes classifier\n",
    "#classifier = GaussianNB()\n",
    "#classifier = MultinomialNB()\n",
    "#classifier = ComplementNB()\n",
    "classifier = LinearSVC()\n",
    "#classifier = tree.DecisionTreeClassifier()\n",
    "\n",
    "#Run it\n",
    "t1 = datetime.datetime.now()\n",
    "#X_train = X_train.toarray()\n",
    "classifier.fit(X_train, y_train)\n",
    "print(datetime.datetime.now() - t1)"
   ]
  },
  {
   "cell_type": "code",
   "execution_count": 5,
   "metadata": {
    "scrolled": true
   },
   "outputs": [
    {
     "name": "stdout",
     "output_type": "stream",
     "text": [
      "['2\\n', '2\\n', '5\\n', '3\\n', '4\\n', '1\\n', '1\\n', '1\\n', '2\\n', '2\\n']\n",
      "['2\\n', '3\\n', '5\\n', '3\\n', '4\\n', '1\\n', '1\\n', '1\\n', '3\\n', '2\\n']\n"
     ]
    }
   ],
   "source": [
    "preds = classifier.predict(X_test)\n",
    "print(list(preds[:10]))\n",
    "print(y_test[:10])"
   ]
  },
  {
   "cell_type": "code",
   "execution_count": 6,
   "metadata": {},
   "outputs": [
    {
     "name": "stdout",
     "output_type": "stream",
     "text": [
      "0.60384\n"
     ]
    }
   ],
   "source": [
    "from sklearn.metrics import accuracy_score\n",
    "print(accuracy_score(y_test, preds))\n"
   ]
  },
  {
   "cell_type": "code",
   "execution_count": 7,
   "metadata": {},
   "outputs": [
    {
     "name": "stdout",
     "output_type": "stream",
     "text": [
      "              precision    recall  f1-score   support\n",
      "\n",
      "          1\n",
      "       0.70      0.78      0.74      5057\n",
      "          2\n",
      "       0.53      0.49      0.51      5010\n",
      "          3\n",
      "       0.52      0.48      0.50      4999\n",
      "          4\n",
      "       0.53      0.51      0.52      4954\n",
      "          5\n",
      "       0.70      0.76      0.73      4980\n",
      "\n",
      "    accuracy                           0.60     25000\n",
      "   macro avg       0.60      0.60      0.60     25000\n",
      "weighted avg       0.60      0.60      0.60     25000\n",
      "\n"
     ]
    }
   ],
   "source": [
    "from sklearn.metrics import classification_report\n",
    "print(classification_report(y_test, preds))"
   ]
  },
  {
   "cell_type": "code",
   "execution_count": 8,
   "metadata": {},
   "outputs": [
    {
     "name": "stdout",
     "output_type": "stream",
     "text": [
      "[[3930  903  140   31   53]\n",
      " [1272 2447 1017  197   77]\n",
      " [ 280 1075 2392 1048  204]\n",
      " [  70  191  888 2540 1265]\n",
      " [  64   36  149  944 3787]]\n"
     ]
    }
   ],
   "source": [
    "from sklearn.metrics import confusion_matrix\n",
    "print(confusion_matrix(y_test, preds))"
   ]
  },
  {
   "cell_type": "code",
   "execution_count": null,
   "metadata": {},
   "outputs": [],
   "source": []
  },
  {
   "cell_type": "code",
   "execution_count": null,
   "metadata": {},
   "outputs": [],
   "source": []
  }
 ],
 "metadata": {
  "kernelspec": {
   "display_name": "Python 3",
   "language": "python",
   "name": "python3"
  },
  "language_info": {
   "codemirror_mode": {
    "name": "ipython",
    "version": 3
   },
   "file_extension": ".py",
   "mimetype": "text/x-python",
   "name": "python",
   "nbconvert_exporter": "python",
   "pygments_lexer": "ipython3",
   "version": "3.7.4"
  }
 },
 "nbformat": 4,
 "nbformat_minor": 2
}
